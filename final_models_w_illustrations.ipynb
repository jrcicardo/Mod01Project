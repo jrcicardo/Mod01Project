{
 "cells": [
  {
   "cell_type": "code",
   "execution_count": 2,
   "metadata": {},
   "outputs": [],
   "source": [
    "import pandas as pd\n",
    "\n",
    "kc_houses = pd.read_csv('/Users/flatironschool/Documents/dsc-v2-mod1-final-project-houston-ds-060319/kc_house_data.csv')"
   ]
  },
  {
   "cell_type": "code",
   "execution_count": 3,
   "metadata": {},
   "outputs": [],
   "source": [
    "def Lin_Reg_Model(LinReg_Var,X_train, Y_train, X_test, Y_test):\n",
    "    \"\"\"\n",
    "    Function for Checking for Linear Regression\n",
    "    Plots a scatter plot of Predicted and Test Data\n",
    "    Prints the explained Variance Score\n",
    "    \"\"\"\n",
    "    mod = LinReg_Var.fit(X_train, Y_train)\n",
    "    y_pred = mod.predict(X_test)\n",
    "    plt.scatter(y_pred,Y_test)\n",
    "    plt.show()\n",
    "    print(\"explained variance score: \", explained_variance_score(Y_test,y_pred))\n",
    "\n",
    "def Lin_Reg_Model_Log(LinReg_Var,X_train, Y_train, X_test, Y_test):\n",
    "    \n",
    "    mod = LinReg_Var.fit(X_train, np.log(Y_train))\n",
    "    y_pred = mod.predict(X_test)\n",
    "    plt.scatter(y_pred, np.log(Y_test))\n",
    "    plt.show()\n",
    "    print(\"explained variance score: \", explained_variance_score(Y_test,np.e**y_pred))"
   ]
  },
  {
   "cell_type": "code",
   "execution_count": 603,
   "metadata": {},
   "outputs": [
    {
     "data": {
      "text/plain": [
       "id                  0\n",
       "date                0\n",
       "price               0\n",
       "bedrooms            0\n",
       "bathrooms           0\n",
       "sqft_living         0\n",
       "sqft_lot            0\n",
       "floors              0\n",
       "waterfront       2376\n",
       "view               63\n",
       "condition           0\n",
       "grade               0\n",
       "sqft_above          0\n",
       "sqft_basement       0\n",
       "yr_built            0\n",
       "yr_renovated     3842\n",
       "zipcode             0\n",
       "lat                 0\n",
       "long                0\n",
       "sqft_living15       0\n",
       "sqft_lot15          0\n",
       "dtype: int64"
      ]
     },
     "execution_count": 603,
     "metadata": {},
     "output_type": "execute_result"
    }
   ],
   "source": [
    "kc_houses.isna().sum()"
   ]
  },
  {
   "cell_type": "code",
   "execution_count": 105,
   "metadata": {},
   "outputs": [
    {
     "data": {
      "text/plain": [
       "array([nan,  0.,  1.])"
      ]
     },
     "execution_count": 105,
     "metadata": {},
     "output_type": "execute_result"
    }
   ],
   "source": [
    "kc_houses['waterfront'].unique()"
   ]
  },
  {
   "cell_type": "code",
   "execution_count": 106,
   "metadata": {},
   "outputs": [
    {
     "data": {
      "text/plain": [
       "array([3, 5, 4, 1, 2])"
      ]
     },
     "execution_count": 106,
     "metadata": {},
     "output_type": "execute_result"
    }
   ],
   "source": [
    "kc_houses['condition'].unique()"
   ]
  },
  {
   "cell_type": "code",
   "execution_count": 107,
   "metadata": {},
   "outputs": [
    {
     "data": {
      "text/plain": [
       "0.0    19075\n",
       "1.0      146\n",
       "Name: waterfront, dtype: int64"
      ]
     },
     "execution_count": 107,
     "metadata": {},
     "output_type": "execute_result"
    }
   ],
   "source": [
    "kc_houses['waterfront'].value_counts()"
   ]
  },
  {
   "cell_type": "code",
   "execution_count": 108,
   "metadata": {},
   "outputs": [
    {
     "data": {
      "text/plain": [
       "5"
      ]
     },
     "execution_count": 108,
     "metadata": {},
     "output_type": "execute_result"
    }
   ],
   "source": [
    "kc_houses['view'].nunique()"
   ]
  },
  {
   "cell_type": "code",
   "execution_count": 109,
   "metadata": {},
   "outputs": [
    {
     "data": {
      "text/plain": [
       "0.0    19422\n",
       "2.0      957\n",
       "3.0      508\n",
       "1.0      330\n",
       "4.0      317\n",
       "Name: view, dtype: int64"
      ]
     },
     "execution_count": 109,
     "metadata": {},
     "output_type": "execute_result"
    }
   ],
   "source": [
    "kc_houses['view'].value_counts()"
   ]
  },
  {
   "cell_type": "code",
   "execution_count": 48,
   "metadata": {},
   "outputs": [
    {
     "data": {
      "text/plain": [
       "0.0       17011\n",
       "2014.0       73\n",
       "2003.0       31\n",
       "2013.0       31\n",
       "2007.0       30\n",
       "2000.0       29\n",
       "2005.0       29\n",
       "1990.0       22\n",
       "2004.0       22\n",
       "2009.0       21\n",
       "1989.0       20\n",
       "2006.0       20\n",
       "2002.0       17\n",
       "1991.0       16\n",
       "1998.0       16\n",
       "1984.0       16\n",
       "1999.0       15\n",
       "2008.0       15\n",
       "2010.0       15\n",
       "2001.0       15\n",
       "1983.0       15\n",
       "2015.0       14\n",
       "1985.0       14\n",
       "1986.0       14\n",
       "1987.0       14\n",
       "1994.0       14\n",
       "1992.0       13\n",
       "1993.0       12\n",
       "1997.0       12\n",
       "1995.0       12\n",
       "          ...  \n",
       "1975.0        5\n",
       "1964.0        5\n",
       "1969.0        4\n",
       "1963.0        4\n",
       "1973.0        4\n",
       "1981.0        4\n",
       "1965.0        4\n",
       "1978.0        3\n",
       "1960.0        3\n",
       "1958.0        3\n",
       "1956.0        3\n",
       "1955.0        3\n",
       "1945.0        3\n",
       "1972.0        3\n",
       "1967.0        2\n",
       "1957.0        2\n",
       "1940.0        2\n",
       "1974.0        2\n",
       "1962.0        2\n",
       "1953.0        1\n",
       "1950.0        1\n",
       "1934.0        1\n",
       "1944.0        1\n",
       "1976.0        1\n",
       "1948.0        1\n",
       "1946.0        1\n",
       "1959.0        1\n",
       "1971.0        1\n",
       "1951.0        1\n",
       "1954.0        1\n",
       "Name: yr_renovated, Length: 70, dtype: int64"
      ]
     },
     "execution_count": 48,
     "metadata": {},
     "output_type": "execute_result"
    }
   ],
   "source": [
    "kc_houses['yr_renovated'].value_counts()"
   ]
  },
  {
   "cell_type": "markdown",
   "metadata": {},
   "source": [
    "Given that the vast majority of lots have a value of 0 for 'yr_renovated' and >10% of the values for 'yr_renovated' are missing, we will replace 'yr_renovated' with a dummy variable 'was_renovated'; all lots that have a year in which they were renovated will be represented with a 1, and all other lots will be represented with 0."
   ]
  },
  {
   "cell_type": "code",
   "execution_count": 4,
   "metadata": {},
   "outputs": [],
   "source": [
    "kc_houses['was_renovated']= kc_houses['yr_renovated'].fillna(0)\n",
    "temp = kc_houses['was_renovated'].astype(bool).astype(int)\n",
    "kc_houses['was_renovated'] = temp\n",
    "kc_houses.drop(columns = ['yr_renovated'],inplace =True)"
   ]
  },
  {
   "cell_type": "markdown",
   "metadata": {},
   "source": [
    "Roughly 10% of records have a null value for 'waterfront'. Given that a large number of records have a null value for waterfront but we think this information may have a bearing on sale price, it would not be practical to simply drop the rows for which waterfront has a null value. Instead, null values in the waterfront column will be replaced with 0."
   ]
  },
  {
   "cell_type": "code",
   "execution_count": 5,
   "metadata": {},
   "outputs": [],
   "source": [
    "kc_houses['waterfront'].fillna(0,inplace=True)"
   ]
  },
  {
   "cell_type": "markdown",
   "metadata": {},
   "source": [
    "Given that only 63 rows are missing values for 'view', we will simply drop the rows that have a null value for 'view'"
   ]
  },
  {
   "cell_type": "code",
   "execution_count": 6,
   "metadata": {},
   "outputs": [],
   "source": [
    "no_view = kc_houses['view'].isna()\n",
    "kc_houses.drop(kc_houses[no_view].index,inplace=True)"
   ]
  },
  {
   "cell_type": "code",
   "execution_count": 337,
   "metadata": {},
   "outputs": [
    {
     "name": "stdout",
     "output_type": "stream",
     "text": [
      "<class 'pandas.core.frame.DataFrame'>\n",
      "Int64Index: 21534 entries, 0 to 21596\n",
      "Data columns (total 21 columns):\n",
      "id               21534 non-null int64\n",
      "date             21534 non-null object\n",
      "price            21534 non-null float64\n",
      "bedrooms         21534 non-null int64\n",
      "bathrooms        21534 non-null float64\n",
      "sqft_living      21534 non-null int64\n",
      "sqft_lot         21534 non-null int64\n",
      "floors           21534 non-null float64\n",
      "waterfront       21534 non-null float64\n",
      "view             21534 non-null float64\n",
      "condition        21534 non-null int64\n",
      "grade            21534 non-null int64\n",
      "sqft_above       21534 non-null int64\n",
      "sqft_basement    21534 non-null object\n",
      "yr_built         21534 non-null int64\n",
      "zipcode          21534 non-null int64\n",
      "lat              21534 non-null float64\n",
      "long             21534 non-null float64\n",
      "sqft_living15    21534 non-null int64\n",
      "sqft_lot15       21534 non-null int64\n",
      "was_renovated    21534 non-null int64\n",
      "dtypes: float64(7), int64(12), object(2)\n",
      "memory usage: 3.6+ MB\n"
     ]
    }
   ],
   "source": [
    "kc_houses.info()"
   ]
  },
  {
   "cell_type": "markdown",
   "metadata": {},
   "source": [
    "'sqft_basement' is a string for some reason? Let's convert that to float."
   ]
  },
  {
   "cell_type": "code",
   "execution_count": 7,
   "metadata": {},
   "outputs": [],
   "source": [
    "no_basement = kc_houses['sqft_basement']=='?'\n",
    "kc_houses = kc_houses.drop(kc_houses[no_basement].index)"
   ]
  },
  {
   "cell_type": "code",
   "execution_count": 8,
   "metadata": {},
   "outputs": [],
   "source": [
    "kc_houses['sqft_basement'] = kc_houses['sqft_basement'].apply(lambda x: float(x))"
   ]
  },
  {
   "cell_type": "code",
   "execution_count": 397,
   "metadata": {},
   "outputs": [
    {
     "data": {
      "text/plain": [
       "(array([2.8760e+03, 1.6331e+04, 1.5550e+03, 2.9600e+02, 1.3000e+01,\n",
       "        9.0000e+00, 1.0000e+00, 0.0000e+00, 0.0000e+00, 0.0000e+00,\n",
       "        0.0000e+00, 0.0000e+00, 0.0000e+00, 0.0000e+00, 0.0000e+00,\n",
       "        0.0000e+00, 0.0000e+00, 0.0000e+00, 0.0000e+00, 1.0000e+00]),\n",
       " array([ 1. ,  2.6,  4.2,  5.8,  7.4,  9. , 10.6, 12.2, 13.8, 15.4, 17. ,\n",
       "        18.6, 20.2, 21.8, 23.4, 25. , 26.6, 28.2, 29.8, 31.4, 33. ]),\n",
       " <a list of 20 Patch objects>)"
      ]
     },
     "execution_count": 397,
     "metadata": {},
     "output_type": "execute_result"
    },
    {
     "data": {
      "image/png": "[encoded data removed]",
      "text/plain": [
       "<Figure size 1080x864 with 1 Axes>"
      ]
     },
     "metadata": {
      "needs_background": "light"
     },
     "output_type": "display_data"
    }
   ],
   "source": [
    "plt.figure(figsize = (15,12))\n",
    "plt.hist(kc_houses['bedrooms'],bins = 20)"
   ]
  },
  {
   "cell_type": "code",
   "execution_count": 9,
   "metadata": {},
   "outputs": [],
   "source": [
    "too_many_bedrooms = kc_houses[kc_houses['bedrooms']>15]\n",
    "kc_houses.drop(too_many_bedrooms.index,inplace =True)\n",
    "# kc_houses.drop(kc_houses[kc_houses['price']>5000000].index,inplace=True)"
   ]
  },
  {
   "cell_type": "code",
   "execution_count": 399,
   "metadata": {},
   "outputs": [
    {
     "data": {
      "text/plain": [
       "(array([1.910e+02, 2.685e+03, 9.607e+03, 6.724e+03, 1.551e+03, 2.580e+02,\n",
       "        3.600e+01, 1.300e+01, 6.000e+00, 4.000e+00]),\n",
       " array([ 1.,  2.,  3.,  4.,  5.,  6.,  7.,  8.,  9., 10., 11.]),\n",
       " <a list of 10 Patch objects>)"
      ]
     },
     "execution_count": 399,
     "metadata": {},
     "output_type": "execute_result"
    },
    {
     "data": {
      "image/png": "[encoded data removed]",
      "text/plain": [
       "<Figure size 432x288 with 1 Axes>"
      ]
     },
     "metadata": {
      "needs_background": "light"
     },
     "output_type": "display_data"
    }
   ],
   "source": [
    "plt.hist(kc_houses['bedrooms'])"
   ]
  },
  {
   "cell_type": "code",
   "execution_count": 400,
   "metadata": {},
   "outputs": [
    {
     "data": {
      "text/html": [
       "<div>\n",
       "<style scoped>\n",
       "    .dataframe tbody tr th:only-of-type {\n",
       "        vertical-align: middle;\n",
       "    }\n",
       "\n",
       "    .dataframe tbody tr th {\n",
       "        vertical-align: top;\n",
       "    }\n",
       "\n",
       "    .dataframe thead th {\n",
       "        text-align: right;\n",
       "    }\n",
       "</style>\n",
       "<table border=\"1\" class=\"dataframe\">\n",
       "  <thead>\n",
       "    <tr style=\"text-align: right;\">\n",
       "      <th></th>\n",
       "      <th>id</th>\n",
       "      <th>price</th>\n",
       "      <th>bedrooms</th>\n",
       "      <th>bathrooms</th>\n",
       "      <th>sqft_living</th>\n",
       "      <th>sqft_lot</th>\n",
       "      <th>floors</th>\n",
       "      <th>waterfront</th>\n",
       "      <th>view</th>\n",
       "      <th>condition</th>\n",
       "      <th>grade</th>\n",
       "      <th>sqft_above</th>\n",
       "      <th>sqft_basement</th>\n",
       "      <th>yr_built</th>\n",
       "      <th>zipcode</th>\n",
       "      <th>lat</th>\n",
       "      <th>long</th>\n",
       "      <th>sqft_living15</th>\n",
       "      <th>sqft_lot15</th>\n",
       "      <th>was_renovated</th>\n",
       "    </tr>\n",
       "  </thead>\n",
       "  <tbody>\n",
       "    <tr>\n",
       "      <th>count</th>\n",
       "      <td>2.107500e+04</td>\n",
       "      <td>2.107500e+04</td>\n",
       "      <td>21075.000000</td>\n",
       "      <td>21075.000000</td>\n",
       "      <td>21075.000000</td>\n",
       "      <td>2.107500e+04</td>\n",
       "      <td>21075.000000</td>\n",
       "      <td>21075.000000</td>\n",
       "      <td>21075.000000</td>\n",
       "      <td>21075.000000</td>\n",
       "      <td>21075.000000</td>\n",
       "      <td>21075.000000</td>\n",
       "      <td>21075.000000</td>\n",
       "      <td>21075.000000</td>\n",
       "      <td>21075.000000</td>\n",
       "      <td>21075.000000</td>\n",
       "      <td>21075.000000</td>\n",
       "      <td>21075.000000</td>\n",
       "      <td>21075.000000</td>\n",
       "      <td>21075.000000</td>\n",
       "    </tr>\n",
       "    <tr>\n",
       "      <th>mean</th>\n",
       "      <td>4.582379e+09</td>\n",
       "      <td>5.386081e+05</td>\n",
       "      <td>3.370439</td>\n",
       "      <td>2.114816</td>\n",
       "      <td>2078.260451</td>\n",
       "      <td>1.507278e+04</td>\n",
       "      <td>1.493476</td>\n",
       "      <td>0.006595</td>\n",
       "      <td>0.232598</td>\n",
       "      <td>3.409822</td>\n",
       "      <td>7.656418</td>\n",
       "      <td>1787.456133</td>\n",
       "      <td>290.804318</td>\n",
       "      <td>1971.022871</td>\n",
       "      <td>98077.869324</td>\n",
       "      <td>47.560342</td>\n",
       "      <td>-122.213830</td>\n",
       "      <td>1986.375469</td>\n",
       "      <td>12729.409300</td>\n",
       "      <td>0.034164</td>\n",
       "    </tr>\n",
       "    <tr>\n",
       "      <th>std</th>\n",
       "      <td>2.876137e+09</td>\n",
       "      <td>3.533868e+05</td>\n",
       "      <td>0.901713</td>\n",
       "      <td>0.765064</td>\n",
       "      <td>909.050223</td>\n",
       "      <td>4.117883e+04</td>\n",
       "      <td>0.539348</td>\n",
       "      <td>0.080946</td>\n",
       "      <td>0.763534</td>\n",
       "      <td>0.650569</td>\n",
       "      <td>1.171154</td>\n",
       "      <td>822.969610</td>\n",
       "      <td>440.662968</td>\n",
       "      <td>29.320477</td>\n",
       "      <td>53.530053</td>\n",
       "      <td>0.138582</td>\n",
       "      <td>0.140626</td>\n",
       "      <td>684.760203</td>\n",
       "      <td>27151.930947</td>\n",
       "      <td>0.181654</td>\n",
       "    </tr>\n",
       "    <tr>\n",
       "      <th>min</th>\n",
       "      <td>1.000102e+06</td>\n",
       "      <td>7.800000e+04</td>\n",
       "      <td>1.000000</td>\n",
       "      <td>0.500000</td>\n",
       "      <td>370.000000</td>\n",
       "      <td>5.200000e+02</td>\n",
       "      <td>1.000000</td>\n",
       "      <td>0.000000</td>\n",
       "      <td>0.000000</td>\n",
       "      <td>1.000000</td>\n",
       "      <td>3.000000</td>\n",
       "      <td>370.000000</td>\n",
       "      <td>0.000000</td>\n",
       "      <td>1900.000000</td>\n",
       "      <td>98001.000000</td>\n",
       "      <td>47.155900</td>\n",
       "      <td>-122.519000</td>\n",
       "      <td>399.000000</td>\n",
       "      <td>651.000000</td>\n",
       "      <td>0.000000</td>\n",
       "    </tr>\n",
       "    <tr>\n",
       "      <th>25%</th>\n",
       "      <td>2.123375e+09</td>\n",
       "      <td>3.220000e+05</td>\n",
       "      <td>3.000000</td>\n",
       "      <td>1.750000</td>\n",
       "      <td>1426.000000</td>\n",
       "      <td>5.040000e+03</td>\n",
       "      <td>1.000000</td>\n",
       "      <td>0.000000</td>\n",
       "      <td>0.000000</td>\n",
       "      <td>3.000000</td>\n",
       "      <td>7.000000</td>\n",
       "      <td>1195.000000</td>\n",
       "      <td>0.000000</td>\n",
       "      <td>1952.000000</td>\n",
       "      <td>98033.000000</td>\n",
       "      <td>47.471300</td>\n",
       "      <td>-122.328000</td>\n",
       "      <td>1490.000000</td>\n",
       "      <td>5100.000000</td>\n",
       "      <td>0.000000</td>\n",
       "    </tr>\n",
       "    <tr>\n",
       "      <th>50%</th>\n",
       "      <td>3.904961e+09</td>\n",
       "      <td>4.500000e+05</td>\n",
       "      <td>3.000000</td>\n",
       "      <td>2.250000</td>\n",
       "      <td>1910.000000</td>\n",
       "      <td>7.620000e+03</td>\n",
       "      <td>1.500000</td>\n",
       "      <td>0.000000</td>\n",
       "      <td>0.000000</td>\n",
       "      <td>3.000000</td>\n",
       "      <td>7.000000</td>\n",
       "      <td>1560.000000</td>\n",
       "      <td>0.000000</td>\n",
       "      <td>1975.000000</td>\n",
       "      <td>98065.000000</td>\n",
       "      <td>47.572100</td>\n",
       "      <td>-122.230000</td>\n",
       "      <td>1840.000000</td>\n",
       "      <td>7625.000000</td>\n",
       "      <td>0.000000</td>\n",
       "    </tr>\n",
       "    <tr>\n",
       "      <th>75%</th>\n",
       "      <td>7.312150e+09</td>\n",
       "      <td>6.450000e+05</td>\n",
       "      <td>4.000000</td>\n",
       "      <td>2.500000</td>\n",
       "      <td>2550.000000</td>\n",
       "      <td>1.068850e+04</td>\n",
       "      <td>2.000000</td>\n",
       "      <td>0.000000</td>\n",
       "      <td>0.000000</td>\n",
       "      <td>4.000000</td>\n",
       "      <td>8.000000</td>\n",
       "      <td>2210.000000</td>\n",
       "      <td>560.000000</td>\n",
       "      <td>1997.000000</td>\n",
       "      <td>98117.000000</td>\n",
       "      <td>47.678200</td>\n",
       "      <td>-122.125000</td>\n",
       "      <td>2360.000000</td>\n",
       "      <td>10086.500000</td>\n",
       "      <td>0.000000</td>\n",
       "    </tr>\n",
       "    <tr>\n",
       "      <th>max</th>\n",
       "      <td>9.900000e+09</td>\n",
       "      <td>4.670000e+06</td>\n",
       "      <td>11.000000</td>\n",
       "      <td>8.000000</td>\n",
       "      <td>13540.000000</td>\n",
       "      <td>1.651359e+06</td>\n",
       "      <td>3.500000</td>\n",
       "      <td>1.000000</td>\n",
       "      <td>4.000000</td>\n",
       "      <td>5.000000</td>\n",
       "      <td>13.000000</td>\n",
       "      <td>9410.000000</td>\n",
       "      <td>4820.000000</td>\n",
       "      <td>2015.000000</td>\n",
       "      <td>98199.000000</td>\n",
       "      <td>47.777600</td>\n",
       "      <td>-121.315000</td>\n",
       "      <td>6210.000000</td>\n",
       "      <td>871200.000000</td>\n",
       "      <td>1.000000</td>\n",
       "    </tr>\n",
       "  </tbody>\n",
       "</table>\n",
       "</div>"
      ],
      "text/plain": [
       "                 id         price      bedrooms     bathrooms   sqft_living  \\\n",
       "count  2.107500e+04  2.107500e+04  21075.000000  21075.000000  21075.000000   \n",
       "mean   4.582379e+09  5.386081e+05      3.370439      2.114816   2078.260451   \n",
       "std    2.876137e+09  3.533868e+05      0.901713      0.765064    909.050223   \n",
       "min    1.000102e+06  7.800000e+04      1.000000      0.500000    370.000000   \n",
       "25%    2.123375e+09  3.220000e+05      3.000000      1.750000   1426.000000   \n",
       "50%    3.904961e+09  4.500000e+05      3.000000      2.250000   1910.000000   \n",
       "75%    7.312150e+09  6.450000e+05      4.000000      2.500000   2550.000000   \n",
       "max    9.900000e+09  4.670000e+06     11.000000      8.000000  13540.000000   \n",
       "\n",
       "           sqft_lot        floors    waterfront          view     condition  \\\n",
       "count  2.107500e+04  21075.000000  21075.000000  21075.000000  21075.000000   \n",
       "mean   1.507278e+04      1.493476      0.006595      0.232598      3.409822   \n",
       "std    4.117883e+04      0.539348      0.080946      0.763534      0.650569   \n",
       "min    5.200000e+02      1.000000      0.000000      0.000000      1.000000   \n",
       "25%    5.040000e+03      1.000000      0.000000      0.000000      3.000000   \n",
       "50%    7.620000e+03      1.500000      0.000000      0.000000      3.000000   \n",
       "75%    1.068850e+04      2.000000      0.000000      0.000000      4.000000   \n",
       "max    1.651359e+06      3.500000      1.000000      4.000000      5.000000   \n",
       "\n",
       "              grade    sqft_above  sqft_basement      yr_built       zipcode  \\\n",
       "count  21075.000000  21075.000000   21075.000000  21075.000000  21075.000000   \n",
       "mean       7.656418   1787.456133     290.804318   1971.022871  98077.869324   \n",
       "std        1.171154    822.969610     440.662968     29.320477     53.530053   \n",
       "min        3.000000    370.000000       0.000000   1900.000000  98001.000000   \n",
       "25%        7.000000   1195.000000       0.000000   1952.000000  98033.000000   \n",
       "50%        7.000000   1560.000000       0.000000   1975.000000  98065.000000   \n",
       "75%        8.000000   2210.000000     560.000000   1997.000000  98117.000000   \n",
       "max       13.000000   9410.000000    4820.000000   2015.000000  98199.000000   \n",
       "\n",
       "                lat          long  sqft_living15     sqft_lot15  was_renovated  \n",
       "count  21075.000000  21075.000000   21075.000000   21075.000000   21075.000000  \n",
       "mean      47.560342   -122.213830    1986.375469   12729.409300       0.034164  \n",
       "std        0.138582      0.140626     684.760203   27151.930947       0.181654  \n",
       "min       47.155900   -122.519000     399.000000     651.000000       0.000000  \n",
       "25%       47.471300   -122.328000    1490.000000    5100.000000       0.000000  \n",
       "50%       47.572100   -122.230000    1840.000000    7625.000000       0.000000  \n",
       "75%       47.678200   -122.125000    2360.000000   10086.500000       0.000000  \n",
       "max       47.777600   -121.315000    6210.000000  871200.000000       1.000000  "
      ]
     },
     "execution_count": 400,
     "metadata": {},
     "output_type": "execute_result"
    }
   ],
   "source": [
    "kc_houses.describe()"
   ]
  },
  {
   "cell_type": "code",
   "execution_count": 439,
   "metadata": {},
   "outputs": [
    {
     "data": {
      "text/html": [
       "<div>\n",
       "<style scoped>\n",
       "    .dataframe tbody tr th:only-of-type {\n",
       "        vertical-align: middle;\n",
       "    }\n",
       "\n",
       "    .dataframe tbody tr th {\n",
       "        vertical-align: top;\n",
       "    }\n",
       "\n",
       "    .dataframe thead th {\n",
       "        text-align: right;\n",
       "    }\n",
       "</style>\n",
       "<table border=\"1\" class=\"dataframe\">\n",
       "  <thead>\n",
       "    <tr style=\"text-align: right;\">\n",
       "      <th></th>\n",
       "      <th>id</th>\n",
       "      <th>price</th>\n",
       "      <th>bedrooms</th>\n",
       "      <th>bathrooms</th>\n",
       "      <th>sqft_living</th>\n",
       "      <th>sqft_lot</th>\n",
       "      <th>floors</th>\n",
       "      <th>waterfront</th>\n",
       "      <th>view</th>\n",
       "      <th>condition</th>\n",
       "      <th>...</th>\n",
       "      <th>sqft_above</th>\n",
       "      <th>sqft_basement</th>\n",
       "      <th>yr_built</th>\n",
       "      <th>zipcode</th>\n",
       "      <th>lat</th>\n",
       "      <th>long</th>\n",
       "      <th>sqft_living15</th>\n",
       "      <th>sqft_lot15</th>\n",
       "      <th>was_renovated</th>\n",
       "      <th>log_sqft_liv</th>\n",
       "    </tr>\n",
       "  </thead>\n",
       "  <tbody>\n",
       "    <tr>\n",
       "      <th>id</th>\n",
       "      <td>1.000000</td>\n",
       "      <td>-0.020485</td>\n",
       "      <td>0.003059</td>\n",
       "      <td>0.004897</td>\n",
       "      <td>-0.013642</td>\n",
       "      <td>-0.132505</td>\n",
       "      <td>0.018924</td>\n",
       "      <td>-0.003988</td>\n",
       "      <td>0.012081</td>\n",
       "      <td>-0.023275</td>\n",
       "      <td>...</td>\n",
       "      <td>-0.012395</td>\n",
       "      <td>-0.004995</td>\n",
       "      <td>0.022245</td>\n",
       "      <td>-0.010761</td>\n",
       "      <td>-0.005112</td>\n",
       "      <td>0.021272</td>\n",
       "      <td>-0.003832</td>\n",
       "      <td>-0.138268</td>\n",
       "      <td>-0.009732</td>\n",
       "      <td>-0.001941</td>\n",
       "    </tr>\n",
       "    <tr>\n",
       "      <th>price</th>\n",
       "      <td>-0.020485</td>\n",
       "      <td>1.000000</td>\n",
       "      <td>0.317668</td>\n",
       "      <td>0.522672</td>\n",
       "      <td>0.696780</td>\n",
       "      <td>0.089735</td>\n",
       "      <td>0.261171</td>\n",
       "      <td>0.254580</td>\n",
       "      <td>0.397417</td>\n",
       "      <td>0.037336</td>\n",
       "      <td>...</td>\n",
       "      <td>0.600547</td>\n",
       "      <td>0.315833</td>\n",
       "      <td>0.056899</td>\n",
       "      <td>-0.052180</td>\n",
       "      <td>0.316727</td>\n",
       "      <td>0.024392</td>\n",
       "      <td>0.595837</td>\n",
       "      <td>0.084673</td>\n",
       "      <td>0.111884</td>\n",
       "      <td>0.619132</td>\n",
       "    </tr>\n",
       "    <tr>\n",
       "      <th>bedrooms</th>\n",
       "      <td>0.003059</td>\n",
       "      <td>0.317668</td>\n",
       "      <td>1.000000</td>\n",
       "      <td>0.526567</td>\n",
       "      <td>0.594095</td>\n",
       "      <td>0.033455</td>\n",
       "      <td>0.183913</td>\n",
       "      <td>-0.003570</td>\n",
       "      <td>0.080922</td>\n",
       "      <td>0.022691</td>\n",
       "      <td>...</td>\n",
       "      <td>0.491787</td>\n",
       "      <td>0.307120</td>\n",
       "      <td>0.162171</td>\n",
       "      <td>-0.156850</td>\n",
       "      <td>-0.011980</td>\n",
       "      <td>0.136263</td>\n",
       "      <td>0.402287</td>\n",
       "      <td>0.031760</td>\n",
       "      <td>0.017754</td>\n",
       "      <td>0.636746</td>\n",
       "    </tr>\n",
       "    <tr>\n",
       "      <th>bathrooms</th>\n",
       "      <td>0.004897</td>\n",
       "      <td>0.522672</td>\n",
       "      <td>0.526567</td>\n",
       "      <td>1.000000</td>\n",
       "      <td>0.752912</td>\n",
       "      <td>0.088198</td>\n",
       "      <td>0.504280</td>\n",
       "      <td>0.058648</td>\n",
       "      <td>0.183273</td>\n",
       "      <td>-0.128316</td>\n",
       "      <td>...</td>\n",
       "      <td>0.683104</td>\n",
       "      <td>0.277448</td>\n",
       "      <td>0.511021</td>\n",
       "      <td>-0.204022</td>\n",
       "      <td>0.024560</td>\n",
       "      <td>0.225972</td>\n",
       "      <td>0.568134</td>\n",
       "      <td>0.089127</td>\n",
       "      <td>0.045012</td>\n",
       "      <td>0.760490</td>\n",
       "    </tr>\n",
       "    <tr>\n",
       "      <th>sqft_living</th>\n",
       "      <td>-0.013642</td>\n",
       "      <td>0.696780</td>\n",
       "      <td>0.594095</td>\n",
       "      <td>0.752912</td>\n",
       "      <td>1.000000</td>\n",
       "      <td>0.173954</td>\n",
       "      <td>0.355129</td>\n",
       "      <td>0.096324</td>\n",
       "      <td>0.279411</td>\n",
       "      <td>-0.061518</td>\n",
       "      <td>...</td>\n",
       "      <td>0.875171</td>\n",
       "      <td>0.428470</td>\n",
       "      <td>0.322827</td>\n",
       "      <td>-0.199375</td>\n",
       "      <td>0.052443</td>\n",
       "      <td>0.244379</td>\n",
       "      <td>0.757759</td>\n",
       "      <td>0.185753</td>\n",
       "      <td>0.045383</td>\n",
       "      <td>0.957022</td>\n",
       "    </tr>\n",
       "    <tr>\n",
       "      <th>sqft_lot</th>\n",
       "      <td>-0.132505</td>\n",
       "      <td>0.089735</td>\n",
       "      <td>0.033455</td>\n",
       "      <td>0.088198</td>\n",
       "      <td>0.173954</td>\n",
       "      <td>1.000000</td>\n",
       "      <td>-0.007890</td>\n",
       "      <td>0.020628</td>\n",
       "      <td>0.072404</td>\n",
       "      <td>-0.009125</td>\n",
       "      <td>...</td>\n",
       "      <td>0.184057</td>\n",
       "      <td>0.015111</td>\n",
       "      <td>0.052443</td>\n",
       "      <td>-0.129541</td>\n",
       "      <td>-0.085154</td>\n",
       "      <td>0.230513</td>\n",
       "      <td>0.143649</td>\n",
       "      <td>0.719494</td>\n",
       "      <td>0.004203</td>\n",
       "      <td>0.149540</td>\n",
       "    </tr>\n",
       "    <tr>\n",
       "      <th>floors</th>\n",
       "      <td>0.018924</td>\n",
       "      <td>0.261171</td>\n",
       "      <td>0.183913</td>\n",
       "      <td>0.504280</td>\n",
       "      <td>0.355129</td>\n",
       "      <td>-0.007890</td>\n",
       "      <td>1.000000</td>\n",
       "      <td>0.018919</td>\n",
       "      <td>0.026731</td>\n",
       "      <td>-0.264202</td>\n",
       "      <td>...</td>\n",
       "      <td>0.525022</td>\n",
       "      <td>-0.247914</td>\n",
       "      <td>0.490130</td>\n",
       "      <td>-0.058258</td>\n",
       "      <td>0.049115</td>\n",
       "      <td>0.125438</td>\n",
       "      <td>0.278850</td>\n",
       "      <td>-0.011762</td>\n",
       "      <td>0.002275</td>\n",
       "      <td>0.367145</td>\n",
       "    </tr>\n",
       "    <tr>\n",
       "      <th>waterfront</th>\n",
       "      <td>-0.003988</td>\n",
       "      <td>0.254580</td>\n",
       "      <td>-0.003570</td>\n",
       "      <td>0.058648</td>\n",
       "      <td>0.096324</td>\n",
       "      <td>0.020628</td>\n",
       "      <td>0.018919</td>\n",
       "      <td>1.000000</td>\n",
       "      <td>0.379789</td>\n",
       "      <td>0.017152</td>\n",
       "      <td>...</td>\n",
       "      <td>0.064256</td>\n",
       "      <td>0.078705</td>\n",
       "      <td>-0.024475</td>\n",
       "      <td>0.030216</td>\n",
       "      <td>-0.012634</td>\n",
       "      <td>-0.036866</td>\n",
       "      <td>0.081548</td>\n",
       "      <td>0.029836</td>\n",
       "      <td>0.068580</td>\n",
       "      <td>0.074492</td>\n",
       "    </tr>\n",
       "    <tr>\n",
       "      <th>view</th>\n",
       "      <td>0.012081</td>\n",
       "      <td>0.397417</td>\n",
       "      <td>0.080922</td>\n",
       "      <td>0.183273</td>\n",
       "      <td>0.279411</td>\n",
       "      <td>0.072404</td>\n",
       "      <td>0.026731</td>\n",
       "      <td>0.379789</td>\n",
       "      <td>1.000000</td>\n",
       "      <td>0.045954</td>\n",
       "      <td>...</td>\n",
       "      <td>0.161646</td>\n",
       "      <td>0.274516</td>\n",
       "      <td>-0.054836</td>\n",
       "      <td>0.086257</td>\n",
       "      <td>0.005630</td>\n",
       "      <td>-0.076306</td>\n",
       "      <td>0.278871</td>\n",
       "      <td>0.072476</td>\n",
       "      <td>0.087422</td>\n",
       "      <td>0.243366</td>\n",
       "    </tr>\n",
       "    <tr>\n",
       "      <th>condition</th>\n",
       "      <td>-0.023275</td>\n",
       "      <td>0.037336</td>\n",
       "      <td>0.022691</td>\n",
       "      <td>-0.128316</td>\n",
       "      <td>-0.061518</td>\n",
       "      <td>-0.009125</td>\n",
       "      <td>-0.264202</td>\n",
       "      <td>0.017152</td>\n",
       "      <td>0.045954</td>\n",
       "      <td>1.000000</td>\n",
       "      <td>...</td>\n",
       "      <td>-0.159577</td>\n",
       "      <td>0.171116</td>\n",
       "      <td>-0.361725</td>\n",
       "      <td>0.002392</td>\n",
       "      <td>-0.016066</td>\n",
       "      <td>-0.105711</td>\n",
       "      <td>-0.093267</td>\n",
       "      <td>-0.004262</td>\n",
       "      <td>-0.055841</td>\n",
       "      <td>-0.051750</td>\n",
       "    </tr>\n",
       "    <tr>\n",
       "      <th>grade</th>\n",
       "      <td>0.008108</td>\n",
       "      <td>0.676541</td>\n",
       "      <td>0.364876</td>\n",
       "      <td>0.664234</td>\n",
       "      <td>0.762607</td>\n",
       "      <td>0.113566</td>\n",
       "      <td>0.459018</td>\n",
       "      <td>0.078965</td>\n",
       "      <td>0.247297</td>\n",
       "      <td>-0.148816</td>\n",
       "      <td>...</td>\n",
       "      <td>0.755402</td>\n",
       "      <td>0.162427</td>\n",
       "      <td>0.449469</td>\n",
       "      <td>-0.184789</td>\n",
       "      <td>0.113286</td>\n",
       "      <td>0.200427</td>\n",
       "      <td>0.712402</td>\n",
       "      <td>0.122175</td>\n",
       "      <td>0.013467</td>\n",
       "      <td>0.741966</td>\n",
       "    </tr>\n",
       "    <tr>\n",
       "      <th>sqft_above</th>\n",
       "      <td>-0.012395</td>\n",
       "      <td>0.600547</td>\n",
       "      <td>0.491787</td>\n",
       "      <td>0.683104</td>\n",
       "      <td>0.875171</td>\n",
       "      <td>0.184057</td>\n",
       "      <td>0.525022</td>\n",
       "      <td>0.064256</td>\n",
       "      <td>0.161646</td>\n",
       "      <td>-0.159577</td>\n",
       "      <td>...</td>\n",
       "      <td>1.000000</td>\n",
       "      <td>-0.062168</td>\n",
       "      <td>0.428002</td>\n",
       "      <td>-0.261154</td>\n",
       "      <td>-0.001055</td>\n",
       "      <td>0.347491</td>\n",
       "      <td>0.730854</td>\n",
       "      <td>0.196417</td>\n",
       "      <td>0.015502</td>\n",
       "      <td>0.832264</td>\n",
       "    </tr>\n",
       "    <tr>\n",
       "      <th>sqft_basement</th>\n",
       "      <td>-0.004995</td>\n",
       "      <td>0.315833</td>\n",
       "      <td>0.307120</td>\n",
       "      <td>0.277448</td>\n",
       "      <td>0.428470</td>\n",
       "      <td>0.015111</td>\n",
       "      <td>-0.247914</td>\n",
       "      <td>0.078705</td>\n",
       "      <td>0.274516</td>\n",
       "      <td>0.171116</td>\n",
       "      <td>...</td>\n",
       "      <td>-0.062168</td>\n",
       "      <td>1.000000</td>\n",
       "      <td>-0.133360</td>\n",
       "      <td>0.076430</td>\n",
       "      <td>0.110155</td>\n",
       "      <td>-0.144832</td>\n",
       "      <td>0.198272</td>\n",
       "      <td>0.016370</td>\n",
       "      <td>0.064669</td>\n",
       "      <td>0.419941</td>\n",
       "    </tr>\n",
       "    <tr>\n",
       "      <th>yr_built</th>\n",
       "      <td>0.022245</td>\n",
       "      <td>0.056899</td>\n",
       "      <td>0.162171</td>\n",
       "      <td>0.511021</td>\n",
       "      <td>0.322827</td>\n",
       "      <td>0.052443</td>\n",
       "      <td>0.490130</td>\n",
       "      <td>-0.024475</td>\n",
       "      <td>-0.054836</td>\n",
       "      <td>-0.361725</td>\n",
       "      <td>...</td>\n",
       "      <td>0.428002</td>\n",
       "      <td>-0.133360</td>\n",
       "      <td>1.000000</td>\n",
       "      <td>-0.346694</td>\n",
       "      <td>-0.148210</td>\n",
       "      <td>0.409035</td>\n",
       "      <td>0.325932</td>\n",
       "      <td>0.071086</td>\n",
       "      <td>-0.200033</td>\n",
       "      <td>0.351622</td>\n",
       "    </tr>\n",
       "    <tr>\n",
       "      <th>zipcode</th>\n",
       "      <td>-0.010761</td>\n",
       "      <td>-0.052180</td>\n",
       "      <td>-0.156850</td>\n",
       "      <td>-0.204022</td>\n",
       "      <td>-0.199375</td>\n",
       "      <td>-0.129541</td>\n",
       "      <td>-0.058258</td>\n",
       "      <td>0.030216</td>\n",
       "      <td>0.086257</td>\n",
       "      <td>0.002392</td>\n",
       "      <td>...</td>\n",
       "      <td>-0.261154</td>\n",
       "      <td>0.076430</td>\n",
       "      <td>-0.346694</td>\n",
       "      <td>1.000000</td>\n",
       "      <td>0.267033</td>\n",
       "      <td>-0.564210</td>\n",
       "      <td>-0.277840</td>\n",
       "      <td>-0.146837</td>\n",
       "      <td>0.062053</td>\n",
       "      <td>-0.220705</td>\n",
       "    </tr>\n",
       "    <tr>\n",
       "      <th>lat</th>\n",
       "      <td>-0.005112</td>\n",
       "      <td>0.316727</td>\n",
       "      <td>-0.011980</td>\n",
       "      <td>0.024560</td>\n",
       "      <td>0.052443</td>\n",
       "      <td>-0.085154</td>\n",
       "      <td>0.049115</td>\n",
       "      <td>-0.012634</td>\n",
       "      <td>0.005630</td>\n",
       "      <td>-0.016066</td>\n",
       "      <td>...</td>\n",
       "      <td>-0.001055</td>\n",
       "      <td>0.110155</td>\n",
       "      <td>-0.148210</td>\n",
       "      <td>0.267033</td>\n",
       "      <td>1.000000</td>\n",
       "      <td>-0.135124</td>\n",
       "      <td>0.050004</td>\n",
       "      <td>-0.084871</td>\n",
       "      <td>0.028957</td>\n",
       "      <td>0.039467</td>\n",
       "    </tr>\n",
       "    <tr>\n",
       "      <th>long</th>\n",
       "      <td>0.021272</td>\n",
       "      <td>0.024392</td>\n",
       "      <td>0.136263</td>\n",
       "      <td>0.225972</td>\n",
       "      <td>0.244379</td>\n",
       "      <td>0.230513</td>\n",
       "      <td>0.125438</td>\n",
       "      <td>-0.036866</td>\n",
       "      <td>-0.076306</td>\n",
       "      <td>-0.105711</td>\n",
       "      <td>...</td>\n",
       "      <td>0.347491</td>\n",
       "      <td>-0.144832</td>\n",
       "      <td>0.409035</td>\n",
       "      <td>-0.564210</td>\n",
       "      <td>-0.135124</td>\n",
       "      <td>1.000000</td>\n",
       "      <td>0.335270</td>\n",
       "      <td>0.255289</td>\n",
       "      <td>-0.064072</td>\n",
       "      <td>0.257722</td>\n",
       "    </tr>\n",
       "    <tr>\n",
       "      <th>sqft_living15</th>\n",
       "      <td>-0.003832</td>\n",
       "      <td>0.595837</td>\n",
       "      <td>0.402287</td>\n",
       "      <td>0.568134</td>\n",
       "      <td>0.757759</td>\n",
       "      <td>0.143649</td>\n",
       "      <td>0.278850</td>\n",
       "      <td>0.081548</td>\n",
       "      <td>0.278871</td>\n",
       "      <td>-0.093267</td>\n",
       "      <td>...</td>\n",
       "      <td>0.730854</td>\n",
       "      <td>0.198272</td>\n",
       "      <td>0.325932</td>\n",
       "      <td>-0.277840</td>\n",
       "      <td>0.050004</td>\n",
       "      <td>0.335270</td>\n",
       "      <td>1.000000</td>\n",
       "      <td>0.183378</td>\n",
       "      <td>-0.000487</td>\n",
       "      <td>0.736057</td>\n",
       "    </tr>\n",
       "    <tr>\n",
       "      <th>sqft_lot15</th>\n",
       "      <td>-0.138268</td>\n",
       "      <td>0.084673</td>\n",
       "      <td>0.031760</td>\n",
       "      <td>0.089127</td>\n",
       "      <td>0.185753</td>\n",
       "      <td>0.719494</td>\n",
       "      <td>-0.011762</td>\n",
       "      <td>0.029836</td>\n",
       "      <td>0.072476</td>\n",
       "      <td>-0.004262</td>\n",
       "      <td>...</td>\n",
       "      <td>0.196417</td>\n",
       "      <td>0.016370</td>\n",
       "      <td>0.071086</td>\n",
       "      <td>-0.146837</td>\n",
       "      <td>-0.084871</td>\n",
       "      <td>0.255289</td>\n",
       "      <td>0.183378</td>\n",
       "      <td>1.000000</td>\n",
       "      <td>0.002839</td>\n",
       "      <td>0.162820</td>\n",
       "    </tr>\n",
       "    <tr>\n",
       "      <th>was_renovated</th>\n",
       "      <td>-0.009732</td>\n",
       "      <td>0.111884</td>\n",
       "      <td>0.017754</td>\n",
       "      <td>0.045012</td>\n",
       "      <td>0.045383</td>\n",
       "      <td>0.004203</td>\n",
       "      <td>0.002275</td>\n",
       "      <td>0.068580</td>\n",
       "      <td>0.087422</td>\n",
       "      <td>-0.055841</td>\n",
       "      <td>...</td>\n",
       "      <td>0.015502</td>\n",
       "      <td>0.064669</td>\n",
       "      <td>-0.200033</td>\n",
       "      <td>0.062053</td>\n",
       "      <td>0.028957</td>\n",
       "      <td>-0.064072</td>\n",
       "      <td>-0.000487</td>\n",
       "      <td>0.002839</td>\n",
       "      <td>1.000000</td>\n",
       "      <td>0.044748</td>\n",
       "    </tr>\n",
       "    <tr>\n",
       "      <th>log_sqft_liv</th>\n",
       "      <td>-0.001941</td>\n",
       "      <td>0.619132</td>\n",
       "      <td>0.636746</td>\n",
       "      <td>0.760490</td>\n",
       "      <td>0.957022</td>\n",
       "      <td>0.149540</td>\n",
       "      <td>0.367145</td>\n",
       "      <td>0.074492</td>\n",
       "      <td>0.243366</td>\n",
       "      <td>-0.051750</td>\n",
       "      <td>...</td>\n",
       "      <td>0.832264</td>\n",
       "      <td>0.419941</td>\n",
       "      <td>0.351622</td>\n",
       "      <td>-0.220705</td>\n",
       "      <td>0.039467</td>\n",
       "      <td>0.257722</td>\n",
       "      <td>0.736057</td>\n",
       "      <td>0.162820</td>\n",
       "      <td>0.044748</td>\n",
       "      <td>1.000000</td>\n",
       "    </tr>\n",
       "  </tbody>\n",
       "</table>\n",
       "<p>21 rows × 21 columns</p>\n",
       "</div>"
      ],
      "text/plain": [
       "                     id     price  bedrooms  bathrooms  sqft_living  sqft_lot  \\\n",
       "id             1.000000 -0.020485  0.003059   0.004897    -0.013642 -0.132505   \n",
       "price         -0.020485  1.000000  0.317668   0.522672     0.696780  0.089735   \n",
       "bedrooms       0.003059  0.317668  1.000000   0.526567     0.594095  0.033455   \n",
       "bathrooms      0.004897  0.522672  0.526567   1.000000     0.752912  0.088198   \n",
       "sqft_living   -0.013642  0.696780  0.594095   0.752912     1.000000  0.173954   \n",
       "sqft_lot      -0.132505  0.089735  0.033455   0.088198     0.173954  1.000000   \n",
       "floors         0.018924  0.261171  0.183913   0.504280     0.355129 -0.007890   \n",
       "waterfront    -0.003988  0.254580 -0.003570   0.058648     0.096324  0.020628   \n",
       "view           0.012081  0.397417  0.080922   0.183273     0.279411  0.072404   \n",
       "condition     -0.023275  0.037336  0.022691  -0.128316    -0.061518 -0.009125   \n",
       "grade          0.008108  0.676541  0.364876   0.664234     0.762607  0.113566   \n",
       "sqft_above    -0.012395  0.600547  0.491787   0.683104     0.875171  0.184057   \n",
       "sqft_basement -0.004995  0.315833  0.307120   0.277448     0.428470  0.015111   \n",
       "yr_built       0.022245  0.056899  0.162171   0.511021     0.322827  0.052443   \n",
       "zipcode       -0.010761 -0.052180 -0.156850  -0.204022    -0.199375 -0.129541   \n",
       "lat           -0.005112  0.316727 -0.011980   0.024560     0.052443 -0.085154   \n",
       "long           0.021272  0.024392  0.136263   0.225972     0.244379  0.230513   \n",
       "sqft_living15 -0.003832  0.595837  0.402287   0.568134     0.757759  0.143649   \n",
       "sqft_lot15    -0.138268  0.084673  0.031760   0.089127     0.185753  0.719494   \n",
       "was_renovated -0.009732  0.111884  0.017754   0.045012     0.045383  0.004203   \n",
       "log_sqft_liv  -0.001941  0.619132  0.636746   0.760490     0.957022  0.149540   \n",
       "\n",
       "                 floors  waterfront      view  condition      ...       \\\n",
       "id             0.018924   -0.003988  0.012081  -0.023275      ...        \n",
       "price          0.261171    0.254580  0.397417   0.037336      ...        \n",
       "bedrooms       0.183913   -0.003570  0.080922   0.022691      ...        \n",
       "bathrooms      0.504280    0.058648  0.183273  -0.128316      ...        \n",
       "sqft_living    0.355129    0.096324  0.279411  -0.061518      ...        \n",
       "sqft_lot      -0.007890    0.020628  0.072404  -0.009125      ...        \n",
       "floors         1.000000    0.018919  0.026731  -0.264202      ...        \n",
       "waterfront     0.018919    1.000000  0.379789   0.017152      ...        \n",
       "view           0.026731    0.379789  1.000000   0.045954      ...        \n",
       "condition     -0.264202    0.017152  0.045954   1.000000      ...        \n",
       "grade          0.459018    0.078965  0.247297  -0.148816      ...        \n",
       "sqft_above     0.525022    0.064256  0.161646  -0.159577      ...        \n",
       "sqft_basement -0.247914    0.078705  0.274516   0.171116      ...        \n",
       "yr_built       0.490130   -0.024475 -0.054836  -0.361725      ...        \n",
       "zipcode       -0.058258    0.030216  0.086257   0.002392      ...        \n",
       "lat            0.049115   -0.012634  0.005630  -0.016066      ...        \n",
       "long           0.125438   -0.036866 -0.076306  -0.105711      ...        \n",
       "sqft_living15  0.278850    0.081548  0.278871  -0.093267      ...        \n",
       "sqft_lot15    -0.011762    0.029836  0.072476  -0.004262      ...        \n",
       "was_renovated  0.002275    0.068580  0.087422  -0.055841      ...        \n",
       "log_sqft_liv   0.367145    0.074492  0.243366  -0.051750      ...        \n",
       "\n",
       "               sqft_above  sqft_basement  yr_built   zipcode       lat  \\\n",
       "id              -0.012395      -0.004995  0.022245 -0.010761 -0.005112   \n",
       "price            0.600547       0.315833  0.056899 -0.052180  0.316727   \n",
       "bedrooms         0.491787       0.307120  0.162171 -0.156850 -0.011980   \n",
       "bathrooms        0.683104       0.277448  0.511021 -0.204022  0.024560   \n",
       "sqft_living      0.875171       0.428470  0.322827 -0.199375  0.052443   \n",
       "sqft_lot         0.184057       0.015111  0.052443 -0.129541 -0.085154   \n",
       "floors           0.525022      -0.247914  0.490130 -0.058258  0.049115   \n",
       "waterfront       0.064256       0.078705 -0.024475  0.030216 -0.012634   \n",
       "view             0.161646       0.274516 -0.054836  0.086257  0.005630   \n",
       "condition       -0.159577       0.171116 -0.361725  0.002392 -0.016066   \n",
       "grade            0.755402       0.162427  0.449469 -0.184789  0.113286   \n",
       "sqft_above       1.000000      -0.062168  0.428002 -0.261154 -0.001055   \n",
       "sqft_basement   -0.062168       1.000000 -0.133360  0.076430  0.110155   \n",
       "yr_built         0.428002      -0.133360  1.000000 -0.346694 -0.148210   \n",
       "zipcode         -0.261154       0.076430 -0.346694  1.000000  0.267033   \n",
       "lat             -0.001055       0.110155 -0.148210  0.267033  1.000000   \n",
       "long             0.347491      -0.144832  0.409035 -0.564210 -0.135124   \n",
       "sqft_living15    0.730854       0.198272  0.325932 -0.277840  0.050004   \n",
       "sqft_lot15       0.196417       0.016370  0.071086 -0.146837 -0.084871   \n",
       "was_renovated    0.015502       0.064669 -0.200033  0.062053  0.028957   \n",
       "log_sqft_liv     0.832264       0.419941  0.351622 -0.220705  0.039467   \n",
       "\n",
       "                   long  sqft_living15  sqft_lot15  was_renovated  \\\n",
       "id             0.021272      -0.003832   -0.138268      -0.009732   \n",
       "price          0.024392       0.595837    0.084673       0.111884   \n",
       "bedrooms       0.136263       0.402287    0.031760       0.017754   \n",
       "bathrooms      0.225972       0.568134    0.089127       0.045012   \n",
       "sqft_living    0.244379       0.757759    0.185753       0.045383   \n",
       "sqft_lot       0.230513       0.143649    0.719494       0.004203   \n",
       "floors         0.125438       0.278850   -0.011762       0.002275   \n",
       "waterfront    -0.036866       0.081548    0.029836       0.068580   \n",
       "view          -0.076306       0.278871    0.072476       0.087422   \n",
       "condition     -0.105711      -0.093267   -0.004262      -0.055841   \n",
       "grade          0.200427       0.712402    0.122175       0.013467   \n",
       "sqft_above     0.347491       0.730854    0.196417       0.015502   \n",
       "sqft_basement -0.144832       0.198272    0.016370       0.064669   \n",
       "yr_built       0.409035       0.325932    0.071086      -0.200033   \n",
       "zipcode       -0.564210      -0.277840   -0.146837       0.062053   \n",
       "lat           -0.135124       0.050004   -0.084871       0.028957   \n",
       "long           1.000000       0.335270    0.255289      -0.064072   \n",
       "sqft_living15  0.335270       1.000000    0.183378      -0.000487   \n",
       "sqft_lot15     0.255289       0.183378    1.000000       0.002839   \n",
       "was_renovated -0.064072      -0.000487    0.002839       1.000000   \n",
       "log_sqft_liv   0.257722       0.736057    0.162820       0.044748   \n",
       "\n",
       "               log_sqft_liv  \n",
       "id                -0.001941  \n",
       "price              0.619132  \n",
       "bedrooms           0.636746  \n",
       "bathrooms          0.760490  \n",
       "sqft_living        0.957022  \n",
       "sqft_lot           0.149540  \n",
       "floors             0.367145  \n",
       "waterfront         0.074492  \n",
       "view               0.243366  \n",
       "condition         -0.051750  \n",
       "grade              0.741966  \n",
       "sqft_above         0.832264  \n",
       "sqft_basement      0.419941  \n",
       "yr_built           0.351622  \n",
       "zipcode           -0.220705  \n",
       "lat                0.039467  \n",
       "long               0.257722  \n",
       "sqft_living15      0.736057  \n",
       "sqft_lot15         0.162820  \n",
       "was_renovated      0.044748  \n",
       "log_sqft_liv       1.000000  \n",
       "\n",
       "[21 rows x 21 columns]"
      ]
     },
     "execution_count": 439,
     "metadata": {},
     "output_type": "execute_result"
    }
   ],
   "source": [
    "kc_houses.corr()"
   ]
  },
  {
   "cell_type": "code",
   "execution_count": 69,
   "metadata": {},
   "outputs": [
    {
     "data": {
      "text/plain": [
       "<matplotlib.collections.PathCollection at 0x114e29208>"
      ]
     },
     "execution_count": 69,
     "metadata": {},
     "output_type": "execute_result"
    },
    {
     "data": {
      "image/png": "[encoded data removed]",
      "text/plain": [
       "<Figure size 432x288 with 1 Axes>"
      ]
     },
     "metadata": {
      "needs_background": "light"
     },
     "output_type": "display_data"
    }
   ],
   "source": [
    "plt.scatter(kc_houses['view'],kc_houses['price'])"
   ]
  },
  {
   "cell_type": "code",
   "execution_count": 22,
   "metadata": {},
   "outputs": [
    {
     "data": {
      "text/plain": [
       "70"
      ]
     },
     "execution_count": 22,
     "metadata": {},
     "output_type": "execute_result"
    }
   ],
   "source": [
    "kc_houses['zipcode'].nunique()"
   ]
  },
  {
   "cell_type": "code",
   "execution_count": 32,
   "metadata": {},
   "outputs": [
    {
     "data": {
      "text/plain": [
       "<matplotlib.axes._subplots.AxesSubplot at 0x1a1dfbb6d8>"
      ]
     },
     "execution_count": 32,
     "metadata": {},
     "output_type": "execute_result"
    },
    {
     "data": {
      "image/png": "[encoded data removed]",
      "text/plain": [
       "<Figure size 432x288 with 1 Axes>"
      ]
     },
     "metadata": {
      "needs_background": "light"
     },
     "output_type": "display_data"
    }
   ],
   "source": [
    "kc_houses.groupby('zipcode')['price'].median().hist(bins = 30)"
   ]
  },
  {
   "cell_type": "code",
   "execution_count": null,
   "metadata": {},
   "outputs": [],
   "source": [
    "plt.hist(kc_houses['sqft_living15'])"
   ]
  },
  {
   "cell_type": "code",
   "execution_count": 10,
   "metadata": {},
   "outputs": [
    {
     "ename": "NameError",
     "evalue": "name 'plt' is not defined",
     "output_type": "error",
     "traceback": [
      "\u001b[0;31m---------------------------------------------------------------------------\u001b[0m",
      "\u001b[0;31mNameError\u001b[0m                                 Traceback (most recent call last)",
      "\u001b[0;32m<ipython-input-10-4e2492db3f34>\u001b[0m in \u001b[0;36m<module>\u001b[0;34m()\u001b[0m\n\u001b[1;32m      1\u001b[0m \u001b[0;32mimport\u001b[0m \u001b[0mnumpy\u001b[0m \u001b[0;32mas\u001b[0m \u001b[0mnp\u001b[0m\u001b[0;34m\u001b[0m\u001b[0m\n\u001b[0;32m----> 2\u001b[0;31m \u001b[0mplt\u001b[0m\u001b[0;34m.\u001b[0m\u001b[0mhist\u001b[0m\u001b[0;34m(\u001b[0m\u001b[0mnp\u001b[0m\u001b[0;34m.\u001b[0m\u001b[0mlog\u001b[0m\u001b[0;34m(\u001b[0m\u001b[0mkc_houses\u001b[0m\u001b[0;34m[\u001b[0m\u001b[0;34m'sqft_living15'\u001b[0m\u001b[0;34m]\u001b[0m\u001b[0;34m)\u001b[0m\u001b[0;34m)\u001b[0m\u001b[0;34m\u001b[0m\u001b[0m\n\u001b[0m",
      "\u001b[0;31mNameError\u001b[0m: name 'plt' is not defined"
     ]
    }
   ],
   "source": [
    "import numpy as np\n",
    "plt.hist(np.log(kc_houses['sqft_living15']))"
   ]
  },
  {
   "cell_type": "code",
   "execution_count": 11,
   "metadata": {},
   "outputs": [
    {
     "name": "stderr",
     "output_type": "stream",
     "text": [
      "/anaconda3/envs/learn-env/lib/python3.6/site-packages/ipykernel_launcher.py:3: FutureWarning: Method .as_matrix will be removed in a future version. Use .values instead.\n",
      "  This is separate from the ipykernel package so we can avoid doing imports until\n"
     ]
    }
   ],
   "source": [
    "kc_houses['log_sqft_liv'] = np.log(kc_houses['sqft_living'])\n",
    "target = kc_houses['price']\n",
    "to_model = kc_houses['log_sqft_liv'].as_matrix().reshape(-1,1)"
   ]
  },
  {
   "cell_type": "code",
   "execution_count": 15,
   "metadata": {},
   "outputs": [],
   "source": [
    "to_model_train, to_model_test, target_train,target_test =train_test_split(to_model,target,test_size = 0.2)"
   ]
  },
  {
   "cell_type": "code",
   "execution_count": 16,
   "metadata": {},
   "outputs": [
    {
     "ename": "NameError",
     "evalue": "name 'plt' is not defined",
     "output_type": "error",
     "traceback": [
      "\u001b[0;31m---------------------------------------------------------------------------\u001b[0m",
      "\u001b[0;31mNameError\u001b[0m                                 Traceback (most recent call last)",
      "\u001b[0;32m<ipython-input-16-3c6553840377>\u001b[0m in \u001b[0;36m<module>\u001b[0;34m()\u001b[0m\n\u001b[1;32m      3\u001b[0m \u001b[0mmod\u001b[0m \u001b[0;34m=\u001b[0m \u001b[0mhouse_model\u001b[0m\u001b[0;34m.\u001b[0m\u001b[0mfit\u001b[0m\u001b[0;34m(\u001b[0m\u001b[0mto_model_train\u001b[0m\u001b[0;34m,\u001b[0m\u001b[0mnp\u001b[0m\u001b[0;34m.\u001b[0m\u001b[0mlog\u001b[0m\u001b[0;34m(\u001b[0m\u001b[0mtarget_train\u001b[0m\u001b[0;34m)\u001b[0m\u001b[0;34m)\u001b[0m\u001b[0;34m\u001b[0m\u001b[0m\n\u001b[1;32m      4\u001b[0m \u001b[0mtest_pred\u001b[0m \u001b[0;34m=\u001b[0m \u001b[0mmod\u001b[0m\u001b[0;34m.\u001b[0m\u001b[0mpredict\u001b[0m\u001b[0;34m(\u001b[0m\u001b[0mto_model_test\u001b[0m\u001b[0;34m)\u001b[0m\u001b[0;34m\u001b[0m\u001b[0m\n\u001b[0;32m----> 5\u001b[0;31m \u001b[0mplt\u001b[0m\u001b[0;34m.\u001b[0m\u001b[0mfigure\u001b[0m\u001b[0;34m(\u001b[0m\u001b[0mfigsize\u001b[0m \u001b[0;34m=\u001b[0m \u001b[0;34m(\u001b[0m\u001b[0;36m15\u001b[0m\u001b[0;34m,\u001b[0m\u001b[0;36m12\u001b[0m\u001b[0;34m)\u001b[0m\u001b[0;34m)\u001b[0m\u001b[0;34m\u001b[0m\u001b[0m\n\u001b[0m\u001b[1;32m      6\u001b[0m \u001b[0mplt\u001b[0m\u001b[0;34m.\u001b[0m\u001b[0mscatter\u001b[0m\u001b[0;34m(\u001b[0m\u001b[0mnp\u001b[0m\u001b[0;34m.\u001b[0m\u001b[0me\u001b[0m\u001b[0;34m**\u001b[0m\u001b[0mto_model_test\u001b[0m\u001b[0;34m,\u001b[0m\u001b[0mtarget_test\u001b[0m\u001b[0;34m,\u001b[0m \u001b[0mlabel\u001b[0m \u001b[0;34m=\u001b[0m \u001b[0;34m''\u001b[0m\u001b[0;34m)\u001b[0m\u001b[0;34m\u001b[0m\u001b[0m\n\u001b[1;32m      7\u001b[0m \u001b[0mplt\u001b[0m\u001b[0;34m.\u001b[0m\u001b[0mscatter\u001b[0m\u001b[0;34m(\u001b[0m\u001b[0mnp\u001b[0m\u001b[0;34m.\u001b[0m\u001b[0me\u001b[0m\u001b[0;34m**\u001b[0m\u001b[0mto_model_test\u001b[0m\u001b[0;34m,\u001b[0m\u001b[0mnp\u001b[0m\u001b[0;34m.\u001b[0m\u001b[0me\u001b[0m\u001b[0;34m**\u001b[0m\u001b[0mtest_pred\u001b[0m\u001b[0;34m,\u001b[0m\u001b[0mc\u001b[0m\u001b[0;34m=\u001b[0m \u001b[0;34m'red'\u001b[0m\u001b[0;34m,\u001b[0m\u001b[0mlabel\u001b[0m \u001b[0;34m=\u001b[0m \u001b[0;34m''\u001b[0m\u001b[0;34m)\u001b[0m\u001b[0;34m\u001b[0m\u001b[0m\n",
      "\u001b[0;31mNameError\u001b[0m: name 'plt' is not defined"
     ]
    }
   ],
   "source": [
    "from sklearn.linear_model import LinearRegression as LinReg\n",
    "house_model = LinReg()\n",
    "mod = house_model.fit(to_model_train,np.log(target_train))\n",
    "test_pred = mod.predict(to_model_test)\n",
    "plt.figure(figsize = (15,12))\n",
    "plt.scatter(np.e**to_model_test,target_test, label = '')\n",
    "plt.scatter(np.e**to_model_test,np.e**test_pred,c= 'red',label = '')\n",
    "plt.xlabel('Living Area in sq. ft.')\n",
    "plt.ylabel('Actual House Price')\n",
    "plt.title('Simple Linear Regression Model Based on Natural Log of Living Area')"
   ]
  },
  {
   "cell_type": "code",
   "execution_count": 454,
   "metadata": {},
   "outputs": [
    {
     "data": {
      "image/png": "[encoded data removed]",
      "text/plain": [
       "<Figure size 1080x864 with 1 Axes>"
      ]
     },
     "metadata": {
      "needs_background": "light"
     },
     "output_type": "display_data"
    }
   ],
   "source": [
    "plt.figure(figsize = (15,12))\n",
    "plt.scatter(np.e**test_pred,target_test, label = 'Actual Price vs Predicted Price')\n",
    "plt.plot(target_test,target_test,color = 'orange', label = 'Actual Price vs Actual Price')\n",
    "plt.xlim(0,2500000)\n",
    "plt.xlabel('Predicted House Price')\n",
    "plt.ylabel('Actual House Price')\n",
    "plt.title('Actual House Price vs Predicted House Price - Simple Linear Regression')\n",
    "plt.legend()\n",
    "plt.savefig('simple_lin_reg')"
   ]
  },
  {
   "cell_type": "code",
   "execution_count": 17,
   "metadata": {},
   "outputs": [
    {
     "data": {
      "text/plain": [
       "0.4458751109721002"
      ]
     },
     "execution_count": 17,
     "metadata": {},
     "output_type": "execute_result"
    }
   ],
   "source": [
    "from sklearn.metrics import explained_variance_score\n",
    "from matplotlib import pyplot as plt\n",
    "explained_variance_score(target_test,np.e**test_pred)"
   ]
  },
  {
   "cell_type": "code",
   "execution_count": 18,
   "metadata": {},
   "outputs": [],
   "source": [
    "zips = pd.get_dummies(kc_houses['zipcode'])"
   ]
  },
  {
   "cell_type": "code",
   "execution_count": 19,
   "metadata": {},
   "outputs": [],
   "source": [
    "houses_with_zips = pd.concat([kc_houses,zips],axis =1)"
   ]
  },
  {
   "cell_type": "code",
   "execution_count": 20,
   "metadata": {},
   "outputs": [],
   "source": [
    "houses_with_zips.drop(columns = ['zipcode'],inplace=True)"
   ]
  },
  {
   "cell_type": "code",
   "execution_count": 21,
   "metadata": {},
   "outputs": [],
   "source": [
    "zip_plus_ln_sq_ft = pd.concat([zips,kc_houses['log_sqft_liv']],axis=1)"
   ]
  },
  {
   "cell_type": "code",
   "execution_count": 14,
   "metadata": {},
   "outputs": [],
   "source": [
    "from sklearn.model_selection import train_test_split"
   ]
  },
  {
   "cell_type": "code",
   "execution_count": 22,
   "metadata": {},
   "outputs": [],
   "source": [
    "minimal_train, minimal_test, target_train, target_test = train_test_split(zip_plus_ln_sq_ft,target, test_size = 0.2)"
   ]
  },
  {
   "cell_type": "code",
   "execution_count": 23,
   "metadata": {},
   "outputs": [
    {
     "data": {
      "image/png": "[encoded data removed]",
      "text/plain": [
       "<Figure size 1080x864 with 1 Axes>"
      ]
     },
     "metadata": {
      "needs_background": "light"
     },
     "output_type": "display_data"
    }
   ],
   "source": [
    "ml = house_model.fit(minimal_train,np.log(target_train))\n",
    "y_pred = ml.predict(minimal_test)\n",
    "plt.figure(figsize = (15,12))\n",
    "plt.scatter(np.e**y_pred,target_test, label = 'Actual Price vs Predicted Price')\n",
    "plt.plot(target_test,target_test,color = 'orange', label = 'Actual Price vs Actual Price')\n",
    "plt.xlim(0,np.e**y_pred.max()+100000)\n",
    "plt.xlabel('Predicted Price')\n",
    "plt.ylabel('Actual Price')\n",
    "plt.title('Performance of Multiple Linear Regression Model Based on Zip Code and Natural Log of Living Area', fontsize = 16)\n",
    "plt.legend()\n",
    "plt.savefig('minimal_ml_model')"
   ]
  },
  {
   "cell_type": "code",
   "execution_count": 24,
   "metadata": {},
   "outputs": [
    {
     "data": {
      "text/plain": [
       "0.7317537019584541"
      ]
     },
     "execution_count": 24,
     "metadata": {},
     "output_type": "execute_result"
    }
   ],
   "source": [
    "explained_variance_score(target_test,np.e**y_pred)#is this logic correct?"
   ]
  },
  {
   "cell_type": "code",
   "execution_count": 25,
   "metadata": {},
   "outputs": [],
   "source": [
    "slim_model = houses_with_zips.drop(columns = ['id','date','price','bedrooms','bathrooms','sqft_living','sqft_lot','floors','condition','grade','sqft_above','sqft_basement','yr_built','long','sqft_living15','sqft_lot15'])"
   ]
  },
  {
   "cell_type": "code",
   "execution_count": 26,
   "metadata": {},
   "outputs": [],
   "source": [
    "slim_train, slim_test, target_train, target_test = train_test_split(slim_model,target,test_size = 0.2)"
   ]
  },
  {
   "cell_type": "code",
   "execution_count": 35,
   "metadata": {},
   "outputs": [
    {
     "data": {
      "image/png": "[encoded data removed]",
      "text/plain": [
       "<Figure size 1080x864 with 1 Axes>"
      ]
     },
     "metadata": {
      "needs_background": "light"
     },
     "output_type": "display_data"
    }
   ],
   "source": [
    "ml = house_model.fit(slim_train,np.log(target_train))\n",
    "y_pred = ml.predict(slim_test)\n",
    "plt.figure(figsize = (15,12))\n",
    "plt.scatter(np.e**y_pred,target_test, label = 'Actual Price vs Predicted Price')\n",
    "plt.plot(target_test,target_test,color='orange', label = 'Actual Price vs Actual Price')\n",
    "plt.xlabel('Predicted House Price')\n",
    "plt.xlim(0,np.e**y_pred.max()+500000)\n",
    "plt.ylabel('Actual House Price')\n",
    "plt.title('Multiple Linear Regression Model with Categorical Variables', fontsize = 16)\n",
    "plt.legend()\n",
    "plt.savefig('ml_reg_w_cat')\n",
    "# plt.scatter(slim_train[''])"
   ]
  },
  {
   "cell_type": "code",
   "execution_count": 28,
   "metadata": {},
   "outputs": [
    {
     "data": {
      "text/plain": [
       "0.8187073341419018"
      ]
     },
     "execution_count": 28,
     "metadata": {},
     "output_type": "execute_result"
    }
   ],
   "source": [
    "explained_variance_score(target_test,np.e**y_pred)#is this logic correct?"
   ]
  },
  {
   "cell_type": "code",
   "execution_count": 540,
   "metadata": {},
   "outputs": [
    {
     "data": {
      "text/plain": [
       "array([4.76929795e-01, 9.07431418e-02, 5.26831180e-01, 4.89255465e-02,\n",
       "       6.81124259e-01, 1.68465098e+10, 1.68465098e+10, 1.68465098e+10,\n",
       "       1.68465098e+10, 1.68465098e+10, 1.68465098e+10, 1.68465098e+10,\n",
       "       1.68465098e+10, 1.68465098e+10, 1.68465098e+10, 1.68465098e+10,\n",
       "       1.68465098e+10, 1.68465098e+10, 1.68465098e+10, 1.68465098e+10,\n",
       "       1.68465098e+10, 1.68465098e+10, 1.68465098e+10, 1.68465098e+10,\n",
       "       1.68465098e+10, 1.68465098e+10, 1.68465098e+10, 1.68465098e+10,\n",
       "       1.68465098e+10, 1.68465098e+10, 1.68465098e+10, 1.68465098e+10,\n",
       "       1.68465098e+10, 1.68465098e+10, 1.68465098e+10, 1.68465098e+10,\n",
       "       1.68465098e+10, 1.68465098e+10, 1.68465098e+10, 1.68465098e+10,\n",
       "       1.68465098e+10, 1.68465098e+10, 1.68465098e+10, 1.68465098e+10,\n",
       "       1.68465098e+10, 1.68465098e+10, 1.68465098e+10, 1.68465098e+10,\n",
       "       1.68465098e+10, 1.68465098e+10, 1.68465098e+10, 1.68465098e+10,\n",
       "       1.68465098e+10, 1.68465098e+10, 1.68465098e+10, 1.68465098e+10,\n",
       "       1.68465098e+10, 1.68465098e+10, 1.68465098e+10, 1.68465098e+10,\n",
       "       1.68465098e+10, 1.68465098e+10, 1.68465098e+10, 1.68465098e+10,\n",
       "       1.68465098e+10, 1.68465098e+10, 1.68465098e+10, 1.68465098e+10,\n",
       "       1.68465098e+10, 1.68465098e+10, 1.68465098e+10, 1.68465098e+10,\n",
       "       1.68465098e+10, 1.68465098e+10, 1.68465098e+10])"
      ]
     },
     "execution_count": 540,
     "metadata": {},
     "output_type": "execute_result"
    }
   ],
   "source": [
    "ml.coef_"
   ]
  },
  {
   "cell_type": "code",
   "execution_count": 29,
   "metadata": {},
   "outputs": [],
   "source": [
    "residuals = np.e**y_pred-target_test"
   ]
  },
  {
   "cell_type": "code",
   "execution_count": 30,
   "metadata": {},
   "outputs": [
    {
     "data": {
      "text/plain": [
       "count    4.215000e+03\n",
       "mean    -1.699491e+04\n",
       "std      1.498067e+05\n",
       "min     -2.361803e+06\n",
       "25%     -5.513629e+04\n",
       "50%     -1.411017e+03\n",
       "75%      4.739192e+04\n",
       "max      8.730124e+05\n",
       "Name: price, dtype: float64"
      ]
     },
     "execution_count": 30,
     "metadata": {},
     "output_type": "execute_result"
    }
   ],
   "source": [
    "residuals.describe()"
   ]
  },
  {
   "cell_type": "code",
   "execution_count": 384,
   "metadata": {},
   "outputs": [
    {
     "data": {
      "image/png": "[encoded data removed]",
      "text/plain": [
       "<Figure size 1080x864 with 1 Axes>"
      ]
     },
     "metadata": {
      "needs_background": "light"
     },
     "output_type": "display_data"
    }
   ],
   "source": [
    "plt.figure(figsize = (15,12))\n",
    "plt.hist(kc_houses['price'],bins = 50)\n",
    "plt.xlabel('House Sale Price')\n",
    "plt.ylabel('Number of Houses')\n",
    "plt.title('House Sale Price Distribution')\n",
    "plt.savefig('price_dist')"
   ]
  },
  {
   "cell_type": "code",
   "execution_count": 600,
   "metadata": {},
   "outputs": [
    {
     "data": {
      "image/png": "[encoded data removed]",
      "text/plain": [
       "<Figure size 1080x864 with 1 Axes>"
      ]
     },
     "metadata": {
      "needs_background": "light"
     },
     "output_type": "display_data"
    }
   ],
   "source": [
    "plt.figure(figsize = (15,12))\n",
    "plt.hist(np.log(kc_houses['price']), bins =50)\n",
    "plt.xlabel('Natural Log of House Price')\n",
    "plt.ylabel('Number of Houses')\n",
    "plt.title('Distribution of Log-Transformed Price')\n",
    "plt.savefig('log_transformed_price')"
   ]
  },
  {
   "cell_type": "code",
   "execution_count": 544,
   "metadata": {},
   "outputs": [],
   "source": [
    "kc_houses['price_per_sq_ft']= kc_houses['price']/kc_houses['sqft_living']"
   ]
  },
  {
   "cell_type": "code",
   "execution_count": 545,
   "metadata": {},
   "outputs": [
    {
     "data": {
      "text/plain": [
       "(array([3148., 6172., 5587., 3104., 1619.,  707.,  389.,  194.,  106.,\n",
       "          49.]), array([ 87.58823529, 158.82941176, 230.07058824, 301.31176471,\n",
       "        372.55294118, 443.79411765, 515.03529412, 586.27647059,\n",
       "        657.51764706, 728.75882353, 800.        ]), <a list of 10 Patch objects>)"
      ]
     },
     "execution_count": 545,
     "metadata": {},
     "output_type": "execute_result"
    },
    {
     "data": {
      "image/png": "[encoded data removed]",
      "text/plain": [
       "<Figure size 432x288 with 1 Axes>"
      ]
     },
     "metadata": {
      "needs_background": "light"
     },
     "output_type": "display_data"
    }
   ],
   "source": [
    "plt.hist(kc_houses['price_per_sq_ft'])"
   ]
  },
  {
   "cell_type": "code",
   "execution_count": 546,
   "metadata": {},
   "outputs": [
    {
     "data": {
      "text/plain": [
       "(array([ 283., 1096., 2771., 3660., 4373., 4215., 2699., 1233.,  557.,\n",
       "         188.]),\n",
       " array([4.47264669, 4.69384319, 4.9150397 , 5.1362362 , 5.3574327 ,\n",
       "        5.57862921, 5.79982571, 6.02102222, 6.24221872, 6.46341522,\n",
       "        6.68461173]),\n",
       " <a list of 10 Patch objects>)"
      ]
     },
     "execution_count": 546,
     "metadata": {},
     "output_type": "execute_result"
    },
    {
     "data": {
      "image/png": "[encoded data removed]",
      "text/plain": [
       "<Figure size 432x288 with 1 Axes>"
      ]
     },
     "metadata": {
      "needs_background": "light"
     },
     "output_type": "display_data"
    }
   ],
   "source": [
    "plt.hist(np.log(kc_houses['price_per_sq_ft']))"
   ]
  },
  {
   "cell_type": "code",
   "execution_count": 547,
   "metadata": {},
   "outputs": [
    {
     "data": {
      "text/plain": [
       "count    21075.000000\n",
       "mean       264.014152\n",
       "std        109.878467\n",
       "min         87.588235\n",
       "25%        182.242991\n",
       "50%        244.609060\n",
       "75%        317.957093\n",
       "max        800.000000\n",
       "Name: price_per_sq_ft, dtype: float64"
      ]
     },
     "execution_count": 547,
     "metadata": {},
     "output_type": "execute_result"
    }
   ],
   "source": [
    "kc_houses['price_per_sq_ft'].describe()"
   ]
  },
  {
   "cell_type": "code",
   "execution_count": null,
   "metadata": {},
   "outputs": [],
   "source": [
    "kc_houses['price_per_sq_ft'].groupby()"
   ]
  },
  {
   "cell_type": "code",
   "execution_count": 164,
   "metadata": {},
   "outputs": [],
   "source": [
    "everything = houses_with_zips.drop(columns = ['id','date','price','sqft_lot','sqft_lot15','sqft_living15','bathrooms'])\n",
    "target = houses_with_zips['price']\n",
    "everything_train, everything_test, target_train, target_test = train_test_split(everything,target,test_size=.2)"
   ]
  },
  {
   "cell_type": "code",
   "execution_count": 165,
   "metadata": {},
   "outputs": [
    {
     "data": {
      "text/plain": [
       "<matplotlib.collections.PathCollection at 0x1a23b9ada0>"
      ]
     },
     "execution_count": 165,
     "metadata": {},
     "output_type": "execute_result"
    },
    {
     "data": {
      "image/png": "[encoded data removed]",
      "text/plain": [
       "<Figure size 432x288 with 1 Axes>"
      ]
     },
     "metadata": {
      "needs_background": "light"
     },
     "output_type": "display_data"
    }
   ],
   "source": [
    "mod = house_model.fit(everything_train,target_train)\n",
    "y_pred = mod.predict(everything_test)\n",
    "plt.scatter(y_pred,target_test)"
   ]
  },
  {
   "cell_type": "code",
   "execution_count": 166,
   "metadata": {},
   "outputs": [
    {
     "data": {
      "text/plain": [
       "0.7869024501856363"
      ]
     },
     "execution_count": 166,
     "metadata": {},
     "output_type": "execute_result"
    }
   ],
   "source": [
    "explained_variance_score(target_test,y_pred)"
   ]
  },
  {
   "cell_type": "code",
   "execution_count": 169,
   "metadata": {},
   "outputs": [
    {
     "data": {
      "text/plain": [
       "(array([105.,  24.,  43.,  42.,  55.,  78., 138.,  81., 120.,  66.,  69.,\n",
       "         49.,  48., 130.,  51., 110.,  81.,  94.,  68.,  85., 199., 142.,\n",
       "        157., 100., 109., 109., 128.,  36.,  22.,  19.,  21.,  35.,  54.,\n",
       "        137., 141., 143., 211., 162., 138.,  91., 364., 223., 179., 227.,\n",
       "        207., 203., 494., 256., 186., 187., 209., 315., 237., 505., 234.,\n",
       "        156., 173., 232., 330., 358., 381.,  97., 136., 138., 153., 177.,\n",
       "        626., 371., 329., 222., 187.,  94., 196., 419., 205., 269., 236.,\n",
       "        253., 285., 198., 372., 239., 144., 166., 159., 212., 410., 256.,\n",
       "        195., 386., 389., 399., 387., 671., 214., 135., 121., 156., 172.,\n",
       "        507.]),\n",
       " array([1900.  , 1901.15, 1902.3 , 1903.45, 1904.6 , 1905.75, 1906.9 ,\n",
       "        1908.05, 1909.2 , 1910.35, 1911.5 , 1912.65, 1913.8 , 1914.95,\n",
       "        1916.1 , 1917.25, 1918.4 , 1919.55, 1920.7 , 1921.85, 1923.  ,\n",
       "        1924.15, 1925.3 , 1926.45, 1927.6 , 1928.75, 1929.9 , 1931.05,\n",
       "        1932.2 , 1933.35, 1934.5 , 1935.65, 1936.8 , 1937.95, 1939.1 ,\n",
       "        1940.25, 1941.4 , 1942.55, 1943.7 , 1944.85, 1946.  , 1947.15,\n",
       "        1948.3 , 1949.45, 1950.6 , 1951.75, 1952.9 , 1954.05, 1955.2 ,\n",
       "        1956.35, 1957.5 , 1958.65, 1959.8 , 1960.95, 1962.1 , 1963.25,\n",
       "        1964.4 , 1965.55, 1966.7 , 1967.85, 1969.  , 1970.15, 1971.3 ,\n",
       "        1972.45, 1973.6 , 1974.75, 1975.9 , 1977.05, 1978.2 , 1979.35,\n",
       "        1980.5 , 1981.65, 1982.8 , 1983.95, 1985.1 , 1986.25, 1987.4 ,\n",
       "        1988.55, 1989.7 , 1990.85, 1992.  , 1993.15, 1994.3 , 1995.45,\n",
       "        1996.6 , 1997.75, 1998.9 , 2000.05, 2001.2 , 2002.35, 2003.5 ,\n",
       "        2004.65, 2005.8 , 2006.95, 2008.1 , 2009.25, 2010.4 , 2011.55,\n",
       "        2012.7 , 2013.85, 2015.  ]),\n",
       " <a list of 100 Patch objects>)"
      ]
     },
     "execution_count": 169,
     "metadata": {},
     "output_type": "execute_result"
    },
    {
     "data": {
      "image/png": "[encoded data removed]",
      "text/plain": [
       "<Figure size 432x288 with 1 Axes>"
      ]
     },
     "metadata": {
      "needs_background": "light"
     },
     "output_type": "display_data"
    }
   ],
   "source": [
    "plt.hist(kc_houses['yr_built'], bins =100)"
   ]
  },
  {
   "cell_type": "code",
   "execution_count": 181,
   "metadata": {},
   "outputs": [
    {
     "data": {
      "text/plain": [
       "<matplotlib.collections.PathCollection at 0x1a217e0940>"
      ]
     },
     "execution_count": 181,
     "metadata": {},
     "output_type": "execute_result"
    },
    {
     "data": {
      "image/png": "[encoded data removed]",
      "text/plain": [
       "<Figure size 432x288 with 1 Axes>"
      ]
     },
     "metadata": {
      "needs_background": "light"
     },
     "output_type": "display_data"
    }
   ],
   "source": [
    "plt.scatter(kc_houses['yr_built'],kc_houses['zipcode'])"
   ]
  },
  {
   "cell_type": "code",
   "execution_count": 182,
   "metadata": {},
   "outputs": [
    {
     "data": {
      "text/plain": [
       "116"
      ]
     },
     "execution_count": 182,
     "metadata": {},
     "output_type": "execute_result"
    }
   ],
   "source": [
    "kc_houses['yr_built'].nunique()"
   ]
  },
  {
   "cell_type": "code",
   "execution_count": 183,
   "metadata": {},
   "outputs": [
    {
     "data": {
      "text/plain": [
       "zipcode  yr_built\n",
       "98001    1903         230000.0\n",
       "         1908         213750.0\n",
       "         1909         185900.0\n",
       "         1912         170000.0\n",
       "         1913         168000.0\n",
       "         1919         189950.0\n",
       "         1936         292500.0\n",
       "         1938         389000.0\n",
       "         1939         249900.0\n",
       "         1942         239950.0\n",
       "         1943         311000.0\n",
       "         1944         199900.0\n",
       "         1946         207725.0\n",
       "         1947         225000.0\n",
       "         1948         366250.0\n",
       "         1950         243450.0\n",
       "         1952         231500.0\n",
       "         1953         209550.0\n",
       "         1954         228725.0\n",
       "         1955         314564.5\n",
       "         1956         100000.0\n",
       "         1958         210500.0\n",
       "         1959         341500.0\n",
       "         1960         246700.0\n",
       "         1961         294000.0\n",
       "         1962         223500.0\n",
       "         1963         217500.0\n",
       "         1964         235000.0\n",
       "         1965         274000.0\n",
       "         1966         215000.0\n",
       "                       ...    \n",
       "98199    1968         830000.0\n",
       "         1970         611750.0\n",
       "         1972         707000.0\n",
       "         1977         714500.0\n",
       "         1983         440000.0\n",
       "         1986        1340000.0\n",
       "         1990         450000.0\n",
       "         1992         950000.0\n",
       "         1993         390000.0\n",
       "         1994         509500.0\n",
       "         1996        2160000.0\n",
       "         1997         495500.0\n",
       "         1998        1930000.0\n",
       "         1999        1570000.0\n",
       "         2000         803000.0\n",
       "         2001        1170000.0\n",
       "         2002         505000.0\n",
       "         2003         443750.0\n",
       "         2004         678000.0\n",
       "         2005         957000.0\n",
       "         2006         825000.0\n",
       "         2007         612500.0\n",
       "         2008         520000.0\n",
       "         2009         435000.0\n",
       "         2010        2125000.0\n",
       "         2011         453000.0\n",
       "         2012         761400.0\n",
       "         2013         549000.0\n",
       "         2014        1050000.0\n",
       "         2015         585500.0\n",
       "Name: price, Length: 4681, dtype: float64"
      ]
     },
     "execution_count": 183,
     "metadata": {},
     "output_type": "execute_result"
    }
   ],
   "source": [
    "kc_houses.groupby(['zipcode','yr_built'])['price'].median()"
   ]
  },
  {
   "cell_type": "code",
   "execution_count": 209,
   "metadata": {},
   "outputs": [],
   "source": [
    "year_built = pd.get_dummies(houses_with_zips['yr_built'])\n",
    "houses_with_zips_and_years = pd.concat([houses_with_zips,year_built],axis=1)\n",
    "houses_with_zips_and_years.drop(columns = ['yr_built'],inplace=True)"
   ]
  },
  {
   "cell_type": "code",
   "execution_count": 210,
   "metadata": {},
   "outputs": [],
   "source": [
    "everything = houses_with_zips_and_years.drop(columns = ['id','date','price','sqft_lot','sqft_lot15','sqft_living15','bathrooms'])\n",
    "target = houses_with_zips['price']\n",
    "everything_train, everything_test, target_train, target_test = train_test_split(everything,target,test_size=.2)"
   ]
  },
  {
   "cell_type": "code",
   "execution_count": 211,
   "metadata": {},
   "outputs": [
    {
     "data": {
      "text/plain": [
       "<matplotlib.collections.PathCollection at 0x1a25d1e198>"
      ]
     },
     "execution_count": 211,
     "metadata": {},
     "output_type": "execute_result"
    },
    {
     "data": {
      "image/png": "[encoded data removed]",
      "text/plain": [
       "<Figure size 432x288 with 1 Axes>"
      ]
     },
     "metadata": {
      "needs_background": "light"
     },
     "output_type": "display_data"
    }
   ],
   "source": [
    "mod = house_model.fit(everything_train,target_train)\n",
    "y_pred = mod.predict(everything_test)\n",
    "plt.scatter(y_pred,target_test)"
   ]
  },
  {
   "cell_type": "code",
   "execution_count": 212,
   "metadata": {},
   "outputs": [
    {
     "data": {
      "text/plain": [
       "0.8171939789098877"
      ]
     },
     "execution_count": 212,
     "metadata": {},
     "output_type": "execute_result"
    }
   ],
   "source": [
    "explained_variance_score(target_test,y_pred)"
   ]
  },
  {
   "cell_type": "code",
   "execution_count": null,
   "metadata": {},
   "outputs": [],
   "source": [
    "#grouping by year built does not improve model"
   ]
  },
  {
   "cell_type": "code",
   "execution_count": 214,
   "metadata": {},
   "outputs": [],
   "source": [
    "houses_with_zips['date'] = pd.to_datetime(houses_with_zips['date'])"
   ]
  },
  {
   "cell_type": "code",
   "execution_count": 517,
   "metadata": {},
   "outputs": [],
   "source": [
    "from sklearn import preprocessing as pp\n",
    "scaler = pp.MinMaxScaler()\n",
    "features = kc_houses[['view','lat','log_sqft_liv']]\n",
    "target = np.log(kc_houses['price'])\n",
    "to_scale = pd.concat([features,target],axis =1)\n",
    "scaled_features = scaler.fit_transform(to_scale)"
   ]
  },
  {
   "cell_type": "code",
   "execution_count": 518,
   "metadata": {},
   "outputs": [],
   "source": [
    "scaled_df = pd.DataFrame(scaled_features, columns = ['view','lat','log_sqft_liv','ln_price'])"
   ]
  },
  {
   "cell_type": "code",
   "execution_count": 519,
   "metadata": {},
   "outputs": [
    {
     "name": "stdout",
     "output_type": "stream",
     "text": [
      "<class 'pandas.core.frame.DataFrame'>\n",
      "RangeIndex: 21075 entries, 0 to 21074\n",
      "Data columns (total 4 columns):\n",
      "view            21075 non-null float64\n",
      "lat             21075 non-null float64\n",
      "log_sqft_liv    21075 non-null float64\n",
      "ln_price        21075 non-null float64\n",
      "dtypes: float64(4)\n",
      "memory usage: 658.7 KB\n"
     ]
    }
   ],
   "source": [
    "scaled_df.info()"
   ]
  },
  {
   "cell_type": "code",
   "execution_count": 531,
   "metadata": {},
   "outputs": [],
   "source": [
    "to_mod = pd.concat([scaled_df,zips],axis =1)"
   ]
  },
  {
   "cell_type": "code",
   "execution_count": 532,
   "metadata": {},
   "outputs": [],
   "source": [
    "features_train, features_test, target_train, target_test = train_test_split(to_mod.drop(columns = ['ln_price']),to_mod['ln_price'],test_size = 0.2)"
   ]
  },
  {
   "cell_type": "code",
   "execution_count": 533,
   "metadata": {},
   "outputs": [
    {
     "ename": "ValueError",
     "evalue": "Input contains NaN, infinity or a value too large for dtype('float64').",
     "output_type": "error",
     "traceback": [
      "\u001b[0;31m---------------------------------------------------------------------------\u001b[0m",
      "\u001b[0;31mValueError\u001b[0m                                Traceback (most recent call last)",
      "\u001b[0;32m<ipython-input-533-ed6d52959d7b>\u001b[0m in \u001b[0;36m<module>\u001b[0;34m()\u001b[0m\n\u001b[0;32m----> 1\u001b[0;31m \u001b[0mLin_Reg_Model\u001b[0m\u001b[0;34m(\u001b[0m\u001b[0mhouse_model\u001b[0m\u001b[0;34m,\u001b[0m\u001b[0mfeatures_train\u001b[0m\u001b[0;34m,\u001b[0m \u001b[0mtarget_train\u001b[0m\u001b[0;34m,\u001b[0m \u001b[0mfeatures_test\u001b[0m\u001b[0;34m,\u001b[0m \u001b[0mtarget_test\u001b[0m\u001b[0;34m)\u001b[0m\u001b[0;34m\u001b[0m\u001b[0m\n\u001b[0m",
      "\u001b[0;32m<ipython-input-509-9cb5b25c0aeb>\u001b[0m in \u001b[0;36mLin_Reg_Model\u001b[0;34m(LinReg_Var, X_train, Y_train, X_test, Y_test)\u001b[0m\n\u001b[1;32m      5\u001b[0m     \u001b[0mPrints\u001b[0m \u001b[0mthe\u001b[0m \u001b[0mexplained\u001b[0m \u001b[0mVariance\u001b[0m \u001b[0mScore\u001b[0m\u001b[0;34m\u001b[0m\u001b[0m\n\u001b[1;32m      6\u001b[0m     \"\"\"\n\u001b[0;32m----> 7\u001b[0;31m     \u001b[0mmod\u001b[0m \u001b[0;34m=\u001b[0m \u001b[0mLinReg_Var\u001b[0m\u001b[0;34m.\u001b[0m\u001b[0mfit\u001b[0m\u001b[0;34m(\u001b[0m\u001b[0mX_train\u001b[0m\u001b[0;34m,\u001b[0m \u001b[0mY_train\u001b[0m\u001b[0;34m)\u001b[0m\u001b[0;34m\u001b[0m\u001b[0m\n\u001b[0m\u001b[1;32m      8\u001b[0m     \u001b[0my_pred\u001b[0m \u001b[0;34m=\u001b[0m \u001b[0mmod\u001b[0m\u001b[0;34m.\u001b[0m\u001b[0mpredict\u001b[0m\u001b[0;34m(\u001b[0m\u001b[0mX_test\u001b[0m\u001b[0;34m)\u001b[0m\u001b[0;34m\u001b[0m\u001b[0m\n\u001b[1;32m      9\u001b[0m     \u001b[0mplt\u001b[0m\u001b[0;34m.\u001b[0m\u001b[0mscatter\u001b[0m\u001b[0;34m(\u001b[0m\u001b[0my_pred\u001b[0m\u001b[0;34m,\u001b[0m\u001b[0mY_test\u001b[0m\u001b[0;34m)\u001b[0m\u001b[0;34m\u001b[0m\u001b[0m\n",
      "\u001b[0;32m/anaconda3/envs/learn-env/lib/python3.6/site-packages/sklearn/linear_model/base.py\u001b[0m in \u001b[0;36mfit\u001b[0;34m(self, X, y, sample_weight)\u001b[0m\n\u001b[1;32m    456\u001b[0m         \u001b[0mn_jobs_\u001b[0m \u001b[0;34m=\u001b[0m \u001b[0mself\u001b[0m\u001b[0;34m.\u001b[0m\u001b[0mn_jobs\u001b[0m\u001b[0;34m\u001b[0m\u001b[0m\n\u001b[1;32m    457\u001b[0m         X, y = check_X_y(X, y, accept_sparse=['csr', 'csc', 'coo'],\n\u001b[0;32m--> 458\u001b[0;31m                          y_numeric=True, multi_output=True)\n\u001b[0m\u001b[1;32m    459\u001b[0m \u001b[0;34m\u001b[0m\u001b[0m\n\u001b[1;32m    460\u001b[0m         \u001b[0;32mif\u001b[0m \u001b[0msample_weight\u001b[0m \u001b[0;32mis\u001b[0m \u001b[0;32mnot\u001b[0m \u001b[0;32mNone\u001b[0m \u001b[0;32mand\u001b[0m \u001b[0mnp\u001b[0m\u001b[0;34m.\u001b[0m\u001b[0matleast_1d\u001b[0m\u001b[0;34m(\u001b[0m\u001b[0msample_weight\u001b[0m\u001b[0;34m)\u001b[0m\u001b[0;34m.\u001b[0m\u001b[0mndim\u001b[0m \u001b[0;34m>\u001b[0m \u001b[0;36m1\u001b[0m\u001b[0;34m:\u001b[0m\u001b[0;34m\u001b[0m\u001b[0m\n",
      "\u001b[0;32m/anaconda3/envs/learn-env/lib/python3.6/site-packages/sklearn/utils/validation.py\u001b[0m in \u001b[0;36mcheck_X_y\u001b[0;34m(X, y, accept_sparse, accept_large_sparse, dtype, order, copy, force_all_finite, ensure_2d, allow_nd, multi_output, ensure_min_samples, ensure_min_features, y_numeric, warn_on_dtype, estimator)\u001b[0m\n\u001b[1;32m    754\u001b[0m                     \u001b[0mensure_min_features\u001b[0m\u001b[0;34m=\u001b[0m\u001b[0mensure_min_features\u001b[0m\u001b[0;34m,\u001b[0m\u001b[0;34m\u001b[0m\u001b[0m\n\u001b[1;32m    755\u001b[0m                     \u001b[0mwarn_on_dtype\u001b[0m\u001b[0;34m=\u001b[0m\u001b[0mwarn_on_dtype\u001b[0m\u001b[0;34m,\u001b[0m\u001b[0;34m\u001b[0m\u001b[0m\n\u001b[0;32m--> 756\u001b[0;31m                     estimator=estimator)\n\u001b[0m\u001b[1;32m    757\u001b[0m     \u001b[0;32mif\u001b[0m \u001b[0mmulti_output\u001b[0m\u001b[0;34m:\u001b[0m\u001b[0;34m\u001b[0m\u001b[0m\n\u001b[1;32m    758\u001b[0m         y = check_array(y, 'csr', force_all_finite=True, ensure_2d=False,\n",
      "\u001b[0;32m/anaconda3/envs/learn-env/lib/python3.6/site-packages/sklearn/utils/validation.py\u001b[0m in \u001b[0;36mcheck_array\u001b[0;34m(array, accept_sparse, accept_large_sparse, dtype, order, copy, force_all_finite, ensure_2d, allow_nd, ensure_min_samples, ensure_min_features, warn_on_dtype, estimator)\u001b[0m\n\u001b[1;32m    571\u001b[0m         \u001b[0;32mif\u001b[0m \u001b[0mforce_all_finite\u001b[0m\u001b[0;34m:\u001b[0m\u001b[0;34m\u001b[0m\u001b[0m\n\u001b[1;32m    572\u001b[0m             _assert_all_finite(array,\n\u001b[0;32m--> 573\u001b[0;31m                                allow_nan=force_all_finite == 'allow-nan')\n\u001b[0m\u001b[1;32m    574\u001b[0m \u001b[0;34m\u001b[0m\u001b[0m\n\u001b[1;32m    575\u001b[0m     \u001b[0mshape_repr\u001b[0m \u001b[0;34m=\u001b[0m \u001b[0m_shape_repr\u001b[0m\u001b[0;34m(\u001b[0m\u001b[0marray\u001b[0m\u001b[0;34m.\u001b[0m\u001b[0mshape\u001b[0m\u001b[0;34m)\u001b[0m\u001b[0;34m\u001b[0m\u001b[0m\n",
      "\u001b[0;32m/anaconda3/envs/learn-env/lib/python3.6/site-packages/sklearn/utils/validation.py\u001b[0m in \u001b[0;36m_assert_all_finite\u001b[0;34m(X, allow_nan)\u001b[0m\n\u001b[1;32m     54\u001b[0m                 not allow_nan and not np.isfinite(X).all()):\n\u001b[1;32m     55\u001b[0m             \u001b[0mtype_err\u001b[0m \u001b[0;34m=\u001b[0m \u001b[0;34m'infinity'\u001b[0m \u001b[0;32mif\u001b[0m \u001b[0mallow_nan\u001b[0m \u001b[0;32melse\u001b[0m \u001b[0;34m'NaN, infinity'\u001b[0m\u001b[0;34m\u001b[0m\u001b[0m\n\u001b[0;32m---> 56\u001b[0;31m             \u001b[0;32mraise\u001b[0m \u001b[0mValueError\u001b[0m\u001b[0;34m(\u001b[0m\u001b[0mmsg_err\u001b[0m\u001b[0;34m.\u001b[0m\u001b[0mformat\u001b[0m\u001b[0;34m(\u001b[0m\u001b[0mtype_err\u001b[0m\u001b[0;34m,\u001b[0m \u001b[0mX\u001b[0m\u001b[0;34m.\u001b[0m\u001b[0mdtype\u001b[0m\u001b[0;34m)\u001b[0m\u001b[0;34m)\u001b[0m\u001b[0;34m\u001b[0m\u001b[0m\n\u001b[0m\u001b[1;32m     57\u001b[0m \u001b[0;34m\u001b[0m\u001b[0m\n\u001b[1;32m     58\u001b[0m \u001b[0;34m\u001b[0m\u001b[0m\n",
      "\u001b[0;31mValueError\u001b[0m: Input contains NaN, infinity or a value too large for dtype('float64')."
     ]
    }
   ],
   "source": [
    "Lin_Reg_Model(house_model,features_train, target_train, features_test, target_test)\n"
   ]
  },
  {
   "cell_type": "code",
   "execution_count": 548,
   "metadata": {},
   "outputs": [],
   "source": [
    "per_sq_ft = pd.concat([kc_houses,zips],axis =1)"
   ]
  },
  {
   "cell_type": "code",
   "execution_count": 549,
   "metadata": {},
   "outputs": [
    {
     "data": {
      "text/html": [
       "<div>\n",
       "<style scoped>\n",
       "    .dataframe tbody tr th:only-of-type {\n",
       "        vertical-align: middle;\n",
       "    }\n",
       "\n",
       "    .dataframe tbody tr th {\n",
       "        vertical-align: top;\n",
       "    }\n",
       "\n",
       "    .dataframe thead th {\n",
       "        text-align: right;\n",
       "    }\n",
       "</style>\n",
       "<table border=\"1\" class=\"dataframe\">\n",
       "  <thead>\n",
       "    <tr style=\"text-align: right;\">\n",
       "      <th></th>\n",
       "      <th>id</th>\n",
       "      <th>price</th>\n",
       "      <th>bedrooms</th>\n",
       "      <th>bathrooms</th>\n",
       "      <th>sqft_living</th>\n",
       "      <th>sqft_lot</th>\n",
       "      <th>floors</th>\n",
       "      <th>waterfront</th>\n",
       "      <th>view</th>\n",
       "      <th>condition</th>\n",
       "      <th>...</th>\n",
       "      <th>98146</th>\n",
       "      <th>98148</th>\n",
       "      <th>98155</th>\n",
       "      <th>98166</th>\n",
       "      <th>98168</th>\n",
       "      <th>98177</th>\n",
       "      <th>98178</th>\n",
       "      <th>98188</th>\n",
       "      <th>98198</th>\n",
       "      <th>98199</th>\n",
       "    </tr>\n",
       "  </thead>\n",
       "  <tbody>\n",
       "    <tr>\n",
       "      <th>count</th>\n",
       "      <td>2.107500e+04</td>\n",
       "      <td>2.107500e+04</td>\n",
       "      <td>21075.000000</td>\n",
       "      <td>21075.000000</td>\n",
       "      <td>21075.000000</td>\n",
       "      <td>2.107500e+04</td>\n",
       "      <td>21075.000000</td>\n",
       "      <td>21075.000000</td>\n",
       "      <td>21075.000000</td>\n",
       "      <td>21075.000000</td>\n",
       "      <td>...</td>\n",
       "      <td>21075.000000</td>\n",
       "      <td>21075.00000</td>\n",
       "      <td>21075.000000</td>\n",
       "      <td>21075.000000</td>\n",
       "      <td>21075.000000</td>\n",
       "      <td>21075.000000</td>\n",
       "      <td>21075.000000</td>\n",
       "      <td>21075.000000</td>\n",
       "      <td>21075.000000</td>\n",
       "      <td>21075.000000</td>\n",
       "    </tr>\n",
       "    <tr>\n",
       "      <th>mean</th>\n",
       "      <td>4.582379e+09</td>\n",
       "      <td>5.386081e+05</td>\n",
       "      <td>3.370439</td>\n",
       "      <td>2.114816</td>\n",
       "      <td>2078.260451</td>\n",
       "      <td>1.507278e+04</td>\n",
       "      <td>1.493476</td>\n",
       "      <td>0.006595</td>\n",
       "      <td>0.232598</td>\n",
       "      <td>3.409822</td>\n",
       "      <td>...</td>\n",
       "      <td>0.013191</td>\n",
       "      <td>0.00261</td>\n",
       "      <td>0.020641</td>\n",
       "      <td>0.011767</td>\n",
       "      <td>0.012384</td>\n",
       "      <td>0.011910</td>\n",
       "      <td>0.012242</td>\n",
       "      <td>0.006216</td>\n",
       "      <td>0.012811</td>\n",
       "      <td>0.014852</td>\n",
       "    </tr>\n",
       "    <tr>\n",
       "      <th>std</th>\n",
       "      <td>2.876137e+09</td>\n",
       "      <td>3.533868e+05</td>\n",
       "      <td>0.901713</td>\n",
       "      <td>0.765064</td>\n",
       "      <td>909.050223</td>\n",
       "      <td>4.117883e+04</td>\n",
       "      <td>0.539348</td>\n",
       "      <td>0.080946</td>\n",
       "      <td>0.763534</td>\n",
       "      <td>0.650569</td>\n",
       "      <td>...</td>\n",
       "      <td>0.114095</td>\n",
       "      <td>0.05102</td>\n",
       "      <td>0.142181</td>\n",
       "      <td>0.107841</td>\n",
       "      <td>0.110596</td>\n",
       "      <td>0.108483</td>\n",
       "      <td>0.109967</td>\n",
       "      <td>0.078597</td>\n",
       "      <td>0.112463</td>\n",
       "      <td>0.120962</td>\n",
       "    </tr>\n",
       "    <tr>\n",
       "      <th>min</th>\n",
       "      <td>1.000102e+06</td>\n",
       "      <td>7.800000e+04</td>\n",
       "      <td>1.000000</td>\n",
       "      <td>0.500000</td>\n",
       "      <td>370.000000</td>\n",
       "      <td>5.200000e+02</td>\n",
       "      <td>1.000000</td>\n",
       "      <td>0.000000</td>\n",
       "      <td>0.000000</td>\n",
       "      <td>1.000000</td>\n",
       "      <td>...</td>\n",
       "      <td>0.000000</td>\n",
       "      <td>0.00000</td>\n",
       "      <td>0.000000</td>\n",
       "      <td>0.000000</td>\n",
       "      <td>0.000000</td>\n",
       "      <td>0.000000</td>\n",
       "      <td>0.000000</td>\n",
       "      <td>0.000000</td>\n",
       "      <td>0.000000</td>\n",
       "      <td>0.000000</td>\n",
       "    </tr>\n",
       "    <tr>\n",
       "      <th>25%</th>\n",
       "      <td>2.123375e+09</td>\n",
       "      <td>3.220000e+05</td>\n",
       "      <td>3.000000</td>\n",
       "      <td>1.750000</td>\n",
       "      <td>1426.000000</td>\n",
       "      <td>5.040000e+03</td>\n",
       "      <td>1.000000</td>\n",
       "      <td>0.000000</td>\n",
       "      <td>0.000000</td>\n",
       "      <td>3.000000</td>\n",
       "      <td>...</td>\n",
       "      <td>0.000000</td>\n",
       "      <td>0.00000</td>\n",
       "      <td>0.000000</td>\n",
       "      <td>0.000000</td>\n",
       "      <td>0.000000</td>\n",
       "      <td>0.000000</td>\n",
       "      <td>0.000000</td>\n",
       "      <td>0.000000</td>\n",
       "      <td>0.000000</td>\n",
       "      <td>0.000000</td>\n",
       "    </tr>\n",
       "    <tr>\n",
       "      <th>50%</th>\n",
       "      <td>3.904961e+09</td>\n",
       "      <td>4.500000e+05</td>\n",
       "      <td>3.000000</td>\n",
       "      <td>2.250000</td>\n",
       "      <td>1910.000000</td>\n",
       "      <td>7.620000e+03</td>\n",
       "      <td>1.500000</td>\n",
       "      <td>0.000000</td>\n",
       "      <td>0.000000</td>\n",
       "      <td>3.000000</td>\n",
       "      <td>...</td>\n",
       "      <td>0.000000</td>\n",
       "      <td>0.00000</td>\n",
       "      <td>0.000000</td>\n",
       "      <td>0.000000</td>\n",
       "      <td>0.000000</td>\n",
       "      <td>0.000000</td>\n",
       "      <td>0.000000</td>\n",
       "      <td>0.000000</td>\n",
       "      <td>0.000000</td>\n",
       "      <td>0.000000</td>\n",
       "    </tr>\n",
       "    <tr>\n",
       "      <th>75%</th>\n",
       "      <td>7.312150e+09</td>\n",
       "      <td>6.450000e+05</td>\n",
       "      <td>4.000000</td>\n",
       "      <td>2.500000</td>\n",
       "      <td>2550.000000</td>\n",
       "      <td>1.068850e+04</td>\n",
       "      <td>2.000000</td>\n",
       "      <td>0.000000</td>\n",
       "      <td>0.000000</td>\n",
       "      <td>4.000000</td>\n",
       "      <td>...</td>\n",
       "      <td>0.000000</td>\n",
       "      <td>0.00000</td>\n",
       "      <td>0.000000</td>\n",
       "      <td>0.000000</td>\n",
       "      <td>0.000000</td>\n",
       "      <td>0.000000</td>\n",
       "      <td>0.000000</td>\n",
       "      <td>0.000000</td>\n",
       "      <td>0.000000</td>\n",
       "      <td>0.000000</td>\n",
       "    </tr>\n",
       "    <tr>\n",
       "      <th>max</th>\n",
       "      <td>9.900000e+09</td>\n",
       "      <td>4.670000e+06</td>\n",
       "      <td>11.000000</td>\n",
       "      <td>8.000000</td>\n",
       "      <td>13540.000000</td>\n",
       "      <td>1.651359e+06</td>\n",
       "      <td>3.500000</td>\n",
       "      <td>1.000000</td>\n",
       "      <td>4.000000</td>\n",
       "      <td>5.000000</td>\n",
       "      <td>...</td>\n",
       "      <td>1.000000</td>\n",
       "      <td>1.00000</td>\n",
       "      <td>1.000000</td>\n",
       "      <td>1.000000</td>\n",
       "      <td>1.000000</td>\n",
       "      <td>1.000000</td>\n",
       "      <td>1.000000</td>\n",
       "      <td>1.000000</td>\n",
       "      <td>1.000000</td>\n",
       "      <td>1.000000</td>\n",
       "    </tr>\n",
       "  </tbody>\n",
       "</table>\n",
       "<p>8 rows × 92 columns</p>\n",
       "</div>"
      ],
      "text/plain": [
       "                 id         price      bedrooms     bathrooms   sqft_living  \\\n",
       "count  2.107500e+04  2.107500e+04  21075.000000  21075.000000  21075.000000   \n",
       "mean   4.582379e+09  5.386081e+05      3.370439      2.114816   2078.260451   \n",
       "std    2.876137e+09  3.533868e+05      0.901713      0.765064    909.050223   \n",
       "min    1.000102e+06  7.800000e+04      1.000000      0.500000    370.000000   \n",
       "25%    2.123375e+09  3.220000e+05      3.000000      1.750000   1426.000000   \n",
       "50%    3.904961e+09  4.500000e+05      3.000000      2.250000   1910.000000   \n",
       "75%    7.312150e+09  6.450000e+05      4.000000      2.500000   2550.000000   \n",
       "max    9.900000e+09  4.670000e+06     11.000000      8.000000  13540.000000   \n",
       "\n",
       "           sqft_lot        floors    waterfront          view     condition  \\\n",
       "count  2.107500e+04  21075.000000  21075.000000  21075.000000  21075.000000   \n",
       "mean   1.507278e+04      1.493476      0.006595      0.232598      3.409822   \n",
       "std    4.117883e+04      0.539348      0.080946      0.763534      0.650569   \n",
       "min    5.200000e+02      1.000000      0.000000      0.000000      1.000000   \n",
       "25%    5.040000e+03      1.000000      0.000000      0.000000      3.000000   \n",
       "50%    7.620000e+03      1.500000      0.000000      0.000000      3.000000   \n",
       "75%    1.068850e+04      2.000000      0.000000      0.000000      4.000000   \n",
       "max    1.651359e+06      3.500000      1.000000      4.000000      5.000000   \n",
       "\n",
       "           ...              98146        98148         98155         98166  \\\n",
       "count      ...       21075.000000  21075.00000  21075.000000  21075.000000   \n",
       "mean       ...           0.013191      0.00261      0.020641      0.011767   \n",
       "std        ...           0.114095      0.05102      0.142181      0.107841   \n",
       "min        ...           0.000000      0.00000      0.000000      0.000000   \n",
       "25%        ...           0.000000      0.00000      0.000000      0.000000   \n",
       "50%        ...           0.000000      0.00000      0.000000      0.000000   \n",
       "75%        ...           0.000000      0.00000      0.000000      0.000000   \n",
       "max        ...           1.000000      1.00000      1.000000      1.000000   \n",
       "\n",
       "              98168         98177         98178         98188         98198  \\\n",
       "count  21075.000000  21075.000000  21075.000000  21075.000000  21075.000000   \n",
       "mean       0.012384      0.011910      0.012242      0.006216      0.012811   \n",
       "std        0.110596      0.108483      0.109967      0.078597      0.112463   \n",
       "min        0.000000      0.000000      0.000000      0.000000      0.000000   \n",
       "25%        0.000000      0.000000      0.000000      0.000000      0.000000   \n",
       "50%        0.000000      0.000000      0.000000      0.000000      0.000000   \n",
       "75%        0.000000      0.000000      0.000000      0.000000      0.000000   \n",
       "max        1.000000      1.000000      1.000000      1.000000      1.000000   \n",
       "\n",
       "              98199  \n",
       "count  21075.000000  \n",
       "mean       0.014852  \n",
       "std        0.120962  \n",
       "min        0.000000  \n",
       "25%        0.000000  \n",
       "50%        0.000000  \n",
       "75%        0.000000  \n",
       "max        1.000000  \n",
       "\n",
       "[8 rows x 92 columns]"
      ]
     },
     "execution_count": 549,
     "metadata": {},
     "output_type": "execute_result"
    }
   ],
   "source": [
    "per_sq_ft.describe()"
   ]
  },
  {
   "cell_type": "code",
   "execution_count": 582,
   "metadata": {},
   "outputs": [
    {
     "data": {
      "text/plain": [
       "(array([3140., 6151., 5568., 3121., 1640.,  709.,  394.,  197.,  105.,\n",
       "          49.]), array([ 87.58823529, 158.64161834, 229.69500138, 300.74838442,\n",
       "        371.80176747, 442.85515051, 513.90853355, 584.9619166 ,\n",
       "        656.01529964, 727.06868268, 798.12206573]), <a list of 10 Patch objects>)"
      ]
     },
     "execution_count": 582,
     "metadata": {},
     "output_type": "execute_result"
    },
    {
     "data": {
      "image/png": "[encoded data removed]",
      "text/plain": [
       "<Figure size 432x288 with 1 Axes>"
      ]
     },
     "metadata": {
      "needs_background": "light"
     },
     "output_type": "display_data"
    }
   ],
   "source": [
    "plt.hist(per_sq_ft['price_per_sq_ft'])"
   ]
  },
  {
   "cell_type": "code",
   "execution_count": 568,
   "metadata": {},
   "outputs": [],
   "source": [
    "per_sq_ft['log_price_per'] = np.log(per_sq_ft['price_per_sq_ft'])"
   ]
  },
  {
   "cell_type": "code",
   "execution_count": 581,
   "metadata": {},
   "outputs": [],
   "source": [
    "per_sq_ft = per_sq_ft.drop(per_sq_ft[per_sq_ft['price_per_sq_ft']>=800].index)"
   ]
  },
  {
   "cell_type": "code",
   "execution_count": 583,
   "metadata": {},
   "outputs": [],
   "source": [
    "purse = LinReg()\n",
    "mod = purse.fit(per_sq_ft.drop(columns = ['id','date','price','price_per_sq_ft','sqft_living','sqft_lot','bedrooms','bathrooms','condition','grade','long','sqft_living15','sqft_lot15','log_price_per']),per_sq_ft['log_price_per'])"
   ]
  },
  {
   "cell_type": "code",
   "execution_count": 587,
   "metadata": {},
   "outputs": [],
   "source": [
    "per_sq_ft['y_pred'] = mod.predict(per_sq_ft.drop(columns = ['id','date','price','price_per_sq_ft','sqft_living','sqft_lot','bedrooms','bathrooms','condition','grade','long','sqft_living15','sqft_lot15','log_price_per']))"
   ]
  },
  {
   "cell_type": "code",
   "execution_count": 585,
   "metadata": {},
   "outputs": [
    {
     "data": {
      "text/plain": [
       "<matplotlib.collections.PathCollection at 0x1a3d1b1518>"
      ]
     },
     "execution_count": 585,
     "metadata": {},
     "output_type": "execute_result"
    },
    {
     "data": {
      "image/png": "[encoded data removed]",
      "text/plain": [
       "<Figure size 432x288 with 1 Axes>"
      ]
     },
     "metadata": {
      "needs_background": "light"
     },
     "output_type": "display_data"
    }
   ],
   "source": [
    "plt.scatter(np.e**y_pred,np.e**per_sq_ft['log_price_per'])"
   ]
  },
  {
   "cell_type": "code",
   "execution_count": 586,
   "metadata": {},
   "outputs": [
    {
     "data": {
      "text/plain": [
       "0.747244825191274"
      ]
     },
     "execution_count": 586,
     "metadata": {},
     "output_type": "execute_result"
    }
   ],
   "source": [
    "explained_variance_score(per_sq_ft['log_price_per'],y_pred)"
   ]
  },
  {
   "cell_type": "code",
   "execution_count": null,
   "metadata": {},
   "outputs": [],
   "source": [
    "plt.scatter(per_sq_ft[''],per_sq_ft[''])"
   ]
  },
  {
   "cell_type": "code",
   "execution_count": 590,
   "metadata": {},
   "outputs": [
    {
     "data": {
      "text/html": [
       "<div>\n",
       "<style scoped>\n",
       "    .dataframe tbody tr th:only-of-type {\n",
       "        vertical-align: middle;\n",
       "    }\n",
       "\n",
       "    .dataframe tbody tr th {\n",
       "        vertical-align: top;\n",
       "    }\n",
       "\n",
       "    .dataframe thead th {\n",
       "        text-align: right;\n",
       "    }\n",
       "</style>\n",
       "<table border=\"1\" class=\"dataframe\">\n",
       "  <thead>\n",
       "    <tr style=\"text-align: right;\">\n",
       "      <th></th>\n",
       "      <th>id</th>\n",
       "      <th>date</th>\n",
       "      <th>price</th>\n",
       "      <th>bedrooms</th>\n",
       "      <th>bathrooms</th>\n",
       "      <th>sqft_living</th>\n",
       "      <th>sqft_lot</th>\n",
       "      <th>floors</th>\n",
       "      <th>waterfront</th>\n",
       "      <th>view</th>\n",
       "      <th>...</th>\n",
       "      <th>98155</th>\n",
       "      <th>98166</th>\n",
       "      <th>98168</th>\n",
       "      <th>98177</th>\n",
       "      <th>98178</th>\n",
       "      <th>98188</th>\n",
       "      <th>98198</th>\n",
       "      <th>98199</th>\n",
       "      <th>log_price_per</th>\n",
       "      <th>y_pred</th>\n",
       "    </tr>\n",
       "  </thead>\n",
       "  <tbody>\n",
       "    <tr>\n",
       "      <th>15241</th>\n",
       "      <td>2425049063</td>\n",
       "      <td>9/11/2014</td>\n",
       "      <td>3640000.0</td>\n",
       "      <td>4</td>\n",
       "      <td>3.25</td>\n",
       "      <td>4830</td>\n",
       "      <td>22257</td>\n",
       "      <td>2.0</td>\n",
       "      <td>1.0</td>\n",
       "      <td>4.0</td>\n",
       "      <td>...</td>\n",
       "      <td>0</td>\n",
       "      <td>0</td>\n",
       "      <td>0</td>\n",
       "      <td>0</td>\n",
       "      <td>0</td>\n",
       "      <td>0</td>\n",
       "      <td>0</td>\n",
       "      <td>0</td>\n",
       "      <td>6.624892</td>\n",
       "      <td>7.137924</td>\n",
       "    </tr>\n",
       "  </tbody>\n",
       "</table>\n",
       "<p>1 rows × 95 columns</p>\n",
       "</div>"
      ],
      "text/plain": [
       "               id       date      price  bedrooms  bathrooms  sqft_living  \\\n",
       "15241  2425049063  9/11/2014  3640000.0         4       3.25         4830   \n",
       "\n",
       "       sqft_lot  floors  waterfront  view    ...     98155  98166  98168  \\\n",
       "15241     22257     2.0         1.0   4.0    ...         0      0      0   \n",
       "\n",
       "       98177  98178  98188  98198  98199  log_price_per    y_pred  \n",
       "15241      0      0      0      0      0       6.624892  7.137924  \n",
       "\n",
       "[1 rows x 95 columns]"
      ]
     },
     "execution_count": 590,
     "metadata": {},
     "output_type": "execute_result"
    }
   ],
   "source": [
    "per_sq_ft[np.e**per_sq_ft['y_pred']>1200]"
   ]
  },
  {
   "cell_type": "code",
   "execution_count": 594,
   "metadata": {},
   "outputs": [],
   "source": [
    "richie_rich = per_sq_ft.loc[per_sq_ft[98039]==1]"
   ]
  },
  {
   "cell_type": "code",
   "execution_count": 596,
   "metadata": {},
   "outputs": [
    {
     "data": {
      "text/plain": [
       "1961382.9787234042"
      ]
     },
     "execution_count": 596,
     "metadata": {},
     "output_type": "execute_result"
    }
   ],
   "source": [
    "richie_rich['price'].mean()"
   ]
  },
  {
   "cell_type": "code",
   "execution_count": 597,
   "metadata": {},
   "outputs": [
    {
     "data": {
      "text/plain": [
       "1880000.0"
      ]
     },
     "execution_count": 597,
     "metadata": {},
     "output_type": "execute_result"
    }
   ],
   "source": [
    "richie_rich['price'].median()"
   ]
  },
  {
   "cell_type": "code",
   "execution_count": 598,
   "metadata": {},
   "outputs": [
    {
     "data": {
      "text/plain": [
       "count    4.700000e+01\n",
       "mean     1.961383e+06\n",
       "std      7.978098e+05\n",
       "min      7.875000e+05\n",
       "25%      1.375000e+06\n",
       "50%      1.880000e+06\n",
       "75%      2.455000e+06\n",
       "max      4.000000e+06\n",
       "Name: price, dtype: float64"
      ]
     },
     "execution_count": 598,
     "metadata": {},
     "output_type": "execute_result"
    }
   ],
   "source": [
    "richie_rich['price'].describe()"
   ]
  },
  {
   "cell_type": "code",
   "execution_count": null,
   "metadata": {},
   "outputs": [],
   "source": []
  }
 ],
 "metadata": {
  "kernelspec": {
   "display_name": "Python 3",
   "language": "python",
   "name": "python3"
  },
  "language_info": {
   "codemirror_mode": {
    "name": "ipython",
    "version": 3
   },
   "file_extension": ".py",
   "mimetype": "text/x-python",
   "name": "python",
   "nbconvert_exporter": "python",
   "pygments_lexer": "ipython3",
   "version": "3.7.3"
  }
 },
 "nbformat": 4,
 "nbformat_minor": 2
}
