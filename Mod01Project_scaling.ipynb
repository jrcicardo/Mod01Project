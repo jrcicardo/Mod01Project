{
 "cells": [
  {
   "cell_type": "code",
   "execution_count": 21,
   "metadata": {},
   "outputs": [],
   "source": [
    "#libs\n",
    "import pandas as pd\n",
    "import matplotlib.pyplot as plt\n",
    "import numpy as np\n",
    "import seaborn as sns\n",
    "from sklearn.linear_model import LinearRegression as LinReg\n",
    "from sklearn.metrics import explained_variance_score\n",
    "from sklearn.feature_selection import RFE\n",
    "from sklearn.model_selection import train_test_split\n",
    "from sklearn.preprocessing import MinMaxScaler\n",
    "\n",
    "%matplotlib inline"
   ]
  },
  {
   "cell_type": "code",
   "execution_count": 22,
   "metadata": {},
   "outputs": [],
   "source": [
    "#functions\n",
    "def extract_year_mon_day(df):\n",
    "    \"\"\"\n",
    "    Takes in a dataframe and splits up a date in to day, month, year \n",
    "    in their own respective columns\n",
    "    \"\"\"\n",
    "    df['Year'], df['Month'], df['Day'] = df['date'].dt.year, df['date'].dt.month, df['date'].dt.day\n",
    "    return df\n",
    "\n",
    "def Lin_Reg_Model(LinReg_Var,X_train, Y_train, X_test, Y_test):\n",
    "    \"\"\"\n",
    "    Function for Checking for Linear Regression\n",
    "    Plots a scatter plot of Predicted and Test Data\n",
    "    Prints the explained Variance Score\n",
    "    \"\"\"\n",
    "    mod = LinReg_Var.fit(X_train, Y_train)\n",
    "    y_pred = mod.predict(X_test)\n",
    "    plt.scatter(y_pred,Y_test)\n",
    "    plt.show()\n",
    "    print(\"explained variance score: \", explained_variance_score(Y_test,y_pred))\n",
    "\n",
    "def Lin_Reg_Model_Log(LinReg_Var,X_train, Y_train, X_test, Y_test):\n",
    "    \n",
    "    mod = LinReg_Var.fit(X_train, np.log(Y_train))\n",
    "    y_pred = mod.predict(X_test)\n",
    "    plt.scatter(y_pred, np.log(Y_test))\n",
    "    plt.show()\n",
    "    print(\"explained variance score: \", explained_variance_score(Y_test,np.e**y_pred))"
   ]
  },
  {
   "cell_type": "code",
   "execution_count": 23,
   "metadata": {},
   "outputs": [],
   "source": [
    "kc_houses = pd.read_csv('/Users/flatironschool/Documents/dsc-v2-mod1-final-project-houston-ds-060319/kc_house_data.csv')"
   ]
  },
  {
   "cell_type": "code",
   "execution_count": 24,
   "metadata": {},
   "outputs": [],
   "source": [
    "kc_houses['was_renovated']= kc_houses['yr_renovated'].fillna(0)\n",
    "temp = kc_houses['was_renovated'].astype(bool).astype(int)\n",
    "kc_houses['was_renovated'] = temp\n",
    "kc_houses.drop(columns = ['yr_renovated'],inplace =True)"
   ]
  },
  {
   "cell_type": "code",
   "execution_count": 25,
   "metadata": {},
   "outputs": [],
   "source": [
    "kc_houses['waterfront'].fillna(0,inplace=True)"
   ]
  },
  {
   "cell_type": "code",
   "execution_count": 26,
   "metadata": {},
   "outputs": [],
   "source": [
    "no_view = kc_houses['view'].isna()\n",
    "kc_houses.drop(kc_houses[no_view].index,inplace=True)"
   ]
  },
  {
   "cell_type": "code",
   "execution_count": 27,
   "metadata": {},
   "outputs": [],
   "source": [
    "no_basement = kc_houses['sqft_basement']=='?'\n",
    "kc_houses = kc_houses.drop(kc_houses[no_basement].index)"
   ]
  },
  {
   "cell_type": "code",
   "execution_count": 28,
   "metadata": {},
   "outputs": [],
   "source": [
    "kc_houses['sqft_basement'] = kc_houses['sqft_basement'].apply(lambda x: float(x))"
   ]
  },
  {
   "cell_type": "code",
   "execution_count": 29,
   "metadata": {},
   "outputs": [],
   "source": [
    "too_many_bedrooms = kc_houses[kc_houses['bedrooms']>15]\n",
    "kc_houses.drop(too_many_bedrooms.index,inplace =True)\n",
    "kc_houses.drop(kc_houses[kc_houses['price']>5000000].index,inplace=True)"
   ]
  },
  {
   "cell_type": "code",
   "execution_count": 30,
   "metadata": {},
   "outputs": [],
   "source": [
    "kc_houses['log_sqft_liv'] = np.log(kc_houses['sqft_living'])"
   ]
  },
  {
   "cell_type": "code",
   "execution_count": 31,
   "metadata": {},
   "outputs": [],
   "source": [
    "zips = pd.get_dummies(kc_houses['zipcode'])"
   ]
  },
  {
   "cell_type": "code",
   "execution_count": 39,
   "metadata": {},
   "outputs": [
    {
     "name": "stdout",
     "output_type": "stream",
     "text": [
      "<class 'pandas.core.frame.DataFrame'>\n",
      "Int64Index: 21075 entries, 0 to 21596\n",
      "Data columns (total 70 columns):\n",
      "98001    21075 non-null uint8\n",
      "98002    21075 non-null uint8\n",
      "98003    21075 non-null uint8\n",
      "98004    21075 non-null uint8\n",
      "98005    21075 non-null uint8\n",
      "98006    21075 non-null uint8\n",
      "98007    21075 non-null uint8\n",
      "98008    21075 non-null uint8\n",
      "98010    21075 non-null uint8\n",
      "98011    21075 non-null uint8\n",
      "98014    21075 non-null uint8\n",
      "98019    21075 non-null uint8\n",
      "98022    21075 non-null uint8\n",
      "98023    21075 non-null uint8\n",
      "98024    21075 non-null uint8\n",
      "98027    21075 non-null uint8\n",
      "98028    21075 non-null uint8\n",
      "98029    21075 non-null uint8\n",
      "98030    21075 non-null uint8\n",
      "98031    21075 non-null uint8\n",
      "98032    21075 non-null uint8\n",
      "98033    21075 non-null uint8\n",
      "98034    21075 non-null uint8\n",
      "98038    21075 non-null uint8\n",
      "98039    21075 non-null uint8\n",
      "98040    21075 non-null uint8\n",
      "98042    21075 non-null uint8\n",
      "98045    21075 non-null uint8\n",
      "98052    21075 non-null uint8\n",
      "98053    21075 non-null uint8\n",
      "98055    21075 non-null uint8\n",
      "98056    21075 non-null uint8\n",
      "98058    21075 non-null uint8\n",
      "98059    21075 non-null uint8\n",
      "98065    21075 non-null uint8\n",
      "98070    21075 non-null uint8\n",
      "98072    21075 non-null uint8\n",
      "98074    21075 non-null uint8\n",
      "98075    21075 non-null uint8\n",
      "98077    21075 non-null uint8\n",
      "98092    21075 non-null uint8\n",
      "98102    21075 non-null uint8\n",
      "98103    21075 non-null uint8\n",
      "98105    21075 non-null uint8\n",
      "98106    21075 non-null uint8\n",
      "98107    21075 non-null uint8\n",
      "98108    21075 non-null uint8\n",
      "98109    21075 non-null uint8\n",
      "98112    21075 non-null uint8\n",
      "98115    21075 non-null uint8\n",
      "98116    21075 non-null uint8\n",
      "98117    21075 non-null uint8\n",
      "98118    21075 non-null uint8\n",
      "98119    21075 non-null uint8\n",
      "98122    21075 non-null uint8\n",
      "98125    21075 non-null uint8\n",
      "98126    21075 non-null uint8\n",
      "98133    21075 non-null uint8\n",
      "98136    21075 non-null uint8\n",
      "98144    21075 non-null uint8\n",
      "98146    21075 non-null uint8\n",
      "98148    21075 non-null uint8\n",
      "98155    21075 non-null uint8\n",
      "98166    21075 non-null uint8\n",
      "98168    21075 non-null uint8\n",
      "98177    21075 non-null uint8\n",
      "98178    21075 non-null uint8\n",
      "98188    21075 non-null uint8\n",
      "98198    21075 non-null uint8\n",
      "98199    21075 non-null uint8\n",
      "dtypes: uint8(70)\n",
      "memory usage: 2.2 MB\n"
     ]
    }
   ],
   "source": [
    "zips.info()"
   ]
  },
  {
   "cell_type": "code",
   "execution_count": 49,
   "metadata": {},
   "outputs": [
    {
     "name": "stdout",
     "output_type": "stream",
     "text": [
      "<class 'pandas.core.frame.DataFrame'>\n",
      "Int64Index: 21075 entries, 0 to 21596\n",
      "Data columns (total 70 columns):\n",
      "98001    21075 non-null uint8\n",
      "98002    21075 non-null uint8\n",
      "98003    21075 non-null uint8\n",
      "98004    21075 non-null uint8\n",
      "98005    21075 non-null uint8\n",
      "98006    21075 non-null uint8\n",
      "98007    21075 non-null uint8\n",
      "98008    21075 non-null uint8\n",
      "98010    21075 non-null uint8\n",
      "98011    21075 non-null uint8\n",
      "98014    21075 non-null uint8\n",
      "98019    21075 non-null uint8\n",
      "98022    21075 non-null uint8\n",
      "98023    21075 non-null uint8\n",
      "98024    21075 non-null uint8\n",
      "98027    21075 non-null uint8\n",
      "98028    21075 non-null uint8\n",
      "98029    21075 non-null uint8\n",
      "98030    21075 non-null uint8\n",
      "98031    21075 non-null uint8\n",
      "98032    21075 non-null uint8\n",
      "98033    21075 non-null uint8\n",
      "98034    21075 non-null uint8\n",
      "98038    21075 non-null uint8\n",
      "98039    21075 non-null uint8\n",
      "98040    21075 non-null uint8\n",
      "98042    21075 non-null uint8\n",
      "98045    21075 non-null uint8\n",
      "98052    21075 non-null uint8\n",
      "98053    21075 non-null uint8\n",
      "98055    21075 non-null uint8\n",
      "98056    21075 non-null uint8\n",
      "98058    21075 non-null uint8\n",
      "98059    21075 non-null uint8\n",
      "98065    21075 non-null uint8\n",
      "98070    21075 non-null uint8\n",
      "98072    21075 non-null uint8\n",
      "98074    21075 non-null uint8\n",
      "98075    21075 non-null uint8\n",
      "98077    21075 non-null uint8\n",
      "98092    21075 non-null uint8\n",
      "98102    21075 non-null uint8\n",
      "98103    21075 non-null uint8\n",
      "98105    21075 non-null uint8\n",
      "98106    21075 non-null uint8\n",
      "98107    21075 non-null uint8\n",
      "98108    21075 non-null uint8\n",
      "98109    21075 non-null uint8\n",
      "98112    21075 non-null uint8\n",
      "98115    21075 non-null uint8\n",
      "98116    21075 non-null uint8\n",
      "98117    21075 non-null uint8\n",
      "98118    21075 non-null uint8\n",
      "98119    21075 non-null uint8\n",
      "98122    21075 non-null uint8\n",
      "98125    21075 non-null uint8\n",
      "98126    21075 non-null uint8\n",
      "98133    21075 non-null uint8\n",
      "98136    21075 non-null uint8\n",
      "98144    21075 non-null uint8\n",
      "98146    21075 non-null uint8\n",
      "98148    21075 non-null uint8\n",
      "98155    21075 non-null uint8\n",
      "98166    21075 non-null uint8\n",
      "98168    21075 non-null uint8\n",
      "98177    21075 non-null uint8\n",
      "98178    21075 non-null uint8\n",
      "98188    21075 non-null uint8\n",
      "98198    21075 non-null uint8\n",
      "98199    21075 non-null uint8\n",
      "dtypes: uint8(70)\n",
      "memory usage: 2.2 MB\n"
     ]
    }
   ],
   "source": [
    "zips.reset_index(drop = True)\n",
    "# zips.drop(columns = ['index'],inplace =True)\n",
    "zips.info()"
   ]
  },
  {
   "cell_type": "code",
   "execution_count": 53,
   "metadata": {},
   "outputs": [
    {
     "name": "stdout",
     "output_type": "stream",
     "text": [
      "<class 'pandas.core.frame.DataFrame'>\n",
      "RangeIndex: 21075 entries, 0 to 21074\n",
      "Data columns (total 70 columns):\n",
      "0     21075 non-null uint8\n",
      "1     21075 non-null uint8\n",
      "2     21075 non-null uint8\n",
      "3     21075 non-null uint8\n",
      "4     21075 non-null uint8\n",
      "5     21075 non-null uint8\n",
      "6     21075 non-null uint8\n",
      "7     21075 non-null uint8\n",
      "8     21075 non-null uint8\n",
      "9     21075 non-null uint8\n",
      "10    21075 non-null uint8\n",
      "11    21075 non-null uint8\n",
      "12    21075 non-null uint8\n",
      "13    21075 non-null uint8\n",
      "14    21075 non-null uint8\n",
      "15    21075 non-null uint8\n",
      "16    21075 non-null uint8\n",
      "17    21075 non-null uint8\n",
      "18    21075 non-null uint8\n",
      "19    21075 non-null uint8\n",
      "20    21075 non-null uint8\n",
      "21    21075 non-null uint8\n",
      "22    21075 non-null uint8\n",
      "23    21075 non-null uint8\n",
      "24    21075 non-null uint8\n",
      "25    21075 non-null uint8\n",
      "26    21075 non-null uint8\n",
      "27    21075 non-null uint8\n",
      "28    21075 non-null uint8\n",
      "29    21075 non-null uint8\n",
      "30    21075 non-null uint8\n",
      "31    21075 non-null uint8\n",
      "32    21075 non-null uint8\n",
      "33    21075 non-null uint8\n",
      "34    21075 non-null uint8\n",
      "35    21075 non-null uint8\n",
      "36    21075 non-null uint8\n",
      "37    21075 non-null uint8\n",
      "38    21075 non-null uint8\n",
      "39    21075 non-null uint8\n",
      "40    21075 non-null uint8\n",
      "41    21075 non-null uint8\n",
      "42    21075 non-null uint8\n",
      "43    21075 non-null uint8\n",
      "44    21075 non-null uint8\n",
      "45    21075 non-null uint8\n",
      "46    21075 non-null uint8\n",
      "47    21075 non-null uint8\n",
      "48    21075 non-null uint8\n",
      "49    21075 non-null uint8\n",
      "50    21075 non-null uint8\n",
      "51    21075 non-null uint8\n",
      "52    21075 non-null uint8\n",
      "53    21075 non-null uint8\n",
      "54    21075 non-null uint8\n",
      "55    21075 non-null uint8\n",
      "56    21075 non-null uint8\n",
      "57    21075 non-null uint8\n",
      "58    21075 non-null uint8\n",
      "59    21075 non-null uint8\n",
      "60    21075 non-null uint8\n",
      "61    21075 non-null uint8\n",
      "62    21075 non-null uint8\n",
      "63    21075 non-null uint8\n",
      "64    21075 non-null uint8\n",
      "65    21075 non-null uint8\n",
      "66    21075 non-null uint8\n",
      "67    21075 non-null uint8\n",
      "68    21075 non-null uint8\n",
      "69    21075 non-null uint8\n",
      "dtypes: uint8(70)\n",
      "memory usage: 1.4 MB\n"
     ]
    },
    {
     "name": "stderr",
     "output_type": "stream",
     "text": [
      "/anaconda3/envs/learn-env/lib/python3.6/site-packages/ipykernel_launcher.py:1: FutureWarning: Method .as_matrix will be removed in a future version. Use .values instead.\n",
      "  \"\"\"Entry point for launching an IPython kernel.\n"
     ]
    }
   ],
   "source": [
    "zips = zips.as_matrix()\n",
    "zips = pd.DataFrame(zips)\n",
    "zips.info()"
   ]
  },
  {
   "cell_type": "code",
   "execution_count": 51,
   "metadata": {},
   "outputs": [],
   "source": [
    "from sklearn import preprocessing as pp\n",
    "scaler = MinMaxScaler()\n",
    "features = kc_houses[['view','lat','log_sqft_liv']]\n",
    "target = np.log(kc_houses['price'])\n",
    "to_scale = pd.concat([features,target],axis =1)\n",
    "scaled_features = scaler.fit_transform(to_scale)"
   ]
  },
  {
   "cell_type": "code",
   "execution_count": 52,
   "metadata": {},
   "outputs": [
    {
     "name": "stdout",
     "output_type": "stream",
     "text": [
      "<class 'pandas.core.frame.DataFrame'>\n",
      "Int64Index: 21075 entries, 0 to 21596\n",
      "Data columns (total 4 columns):\n",
      "view            21075 non-null float64\n",
      "lat             21075 non-null float64\n",
      "log_sqft_liv    21075 non-null float64\n",
      "price           21075 non-null float64\n",
      "dtypes: float64(4)\n",
      "memory usage: 1.4 MB\n"
     ]
    }
   ],
   "source": [
    "to_scale.info()"
   ]
  },
  {
   "cell_type": "code",
   "execution_count": 54,
   "metadata": {},
   "outputs": [],
   "source": [
    "scaled_df = pd.DataFrame(scaled_features, columns = ['view','lat','log_sqft_liv','ln_price'])"
   ]
  },
  {
   "cell_type": "code",
   "execution_count": 45,
   "metadata": {},
   "outputs": [
    {
     "name": "stdout",
     "output_type": "stream",
     "text": [
      "<class 'pandas.core.frame.DataFrame'>\n",
      "RangeIndex: 21075 entries, 0 to 21074\n",
      "Data columns (total 4 columns):\n",
      "view            21075 non-null float64\n",
      "lat             21075 non-null float64\n",
      "log_sqft_liv    21075 non-null float64\n",
      "ln_price        21075 non-null float64\n",
      "dtypes: float64(4)\n",
      "memory usage: 658.7 KB\n"
     ]
    }
   ],
   "source": [
    "scaled_df.info()"
   ]
  },
  {
   "cell_type": "code",
   "execution_count": 55,
   "metadata": {},
   "outputs": [],
   "source": [
    "to_mod = pd.concat([scaled_df,zips],axis =1)\n",
    "house_model = LinReg()"
   ]
  },
  {
   "cell_type": "code",
   "execution_count": 56,
   "metadata": {},
   "outputs": [
    {
     "name": "stdout",
     "output_type": "stream",
     "text": [
      "<class 'pandas.core.frame.DataFrame'>\n",
      "RangeIndex: 21075 entries, 0 to 21074\n",
      "Data columns (total 74 columns):\n",
      "view            21075 non-null float64\n",
      "lat             21075 non-null float64\n",
      "log_sqft_liv    21075 non-null float64\n",
      "ln_price        21075 non-null float64\n",
      "0               21075 non-null uint8\n",
      "1               21075 non-null uint8\n",
      "2               21075 non-null uint8\n",
      "3               21075 non-null uint8\n",
      "4               21075 non-null uint8\n",
      "5               21075 non-null uint8\n",
      "6               21075 non-null uint8\n",
      "7               21075 non-null uint8\n",
      "8               21075 non-null uint8\n",
      "9               21075 non-null uint8\n",
      "10              21075 non-null uint8\n",
      "11              21075 non-null uint8\n",
      "12              21075 non-null uint8\n",
      "13              21075 non-null uint8\n",
      "14              21075 non-null uint8\n",
      "15              21075 non-null uint8\n",
      "16              21075 non-null uint8\n",
      "17              21075 non-null uint8\n",
      "18              21075 non-null uint8\n",
      "19              21075 non-null uint8\n",
      "20              21075 non-null uint8\n",
      "21              21075 non-null uint8\n",
      "22              21075 non-null uint8\n",
      "23              21075 non-null uint8\n",
      "24              21075 non-null uint8\n",
      "25              21075 non-null uint8\n",
      "26              21075 non-null uint8\n",
      "27              21075 non-null uint8\n",
      "28              21075 non-null uint8\n",
      "29              21075 non-null uint8\n",
      "30              21075 non-null uint8\n",
      "31              21075 non-null uint8\n",
      "32              21075 non-null uint8\n",
      "33              21075 non-null uint8\n",
      "34              21075 non-null uint8\n",
      "35              21075 non-null uint8\n",
      "36              21075 non-null uint8\n",
      "37              21075 non-null uint8\n",
      "38              21075 non-null uint8\n",
      "39              21075 non-null uint8\n",
      "40              21075 non-null uint8\n",
      "41              21075 non-null uint8\n",
      "42              21075 non-null uint8\n",
      "43              21075 non-null uint8\n",
      "44              21075 non-null uint8\n",
      "45              21075 non-null uint8\n",
      "46              21075 non-null uint8\n",
      "47              21075 non-null uint8\n",
      "48              21075 non-null uint8\n",
      "49              21075 non-null uint8\n",
      "50              21075 non-null uint8\n",
      "51              21075 non-null uint8\n",
      "52              21075 non-null uint8\n",
      "53              21075 non-null uint8\n",
      "54              21075 non-null uint8\n",
      "55              21075 non-null uint8\n",
      "56              21075 non-null uint8\n",
      "57              21075 non-null uint8\n",
      "58              21075 non-null uint8\n",
      "59              21075 non-null uint8\n",
      "60              21075 non-null uint8\n",
      "61              21075 non-null uint8\n",
      "62              21075 non-null uint8\n",
      "63              21075 non-null uint8\n",
      "64              21075 non-null uint8\n",
      "65              21075 non-null uint8\n",
      "66              21075 non-null uint8\n",
      "67              21075 non-null uint8\n",
      "68              21075 non-null uint8\n",
      "69              21075 non-null uint8\n",
      "dtypes: float64(4), uint8(70)\n",
      "memory usage: 2.1 MB\n"
     ]
    }
   ],
   "source": [
    "to_mod.info()"
   ]
  },
  {
   "cell_type": "code",
   "execution_count": 57,
   "metadata": {},
   "outputs": [],
   "source": [
    "features_train, features_test, target_train, target_test = train_test_split(to_mod.drop(columns = ['ln_price']),to_mod['ln_price'],test_size = 0.2)"
   ]
  },
  {
   "cell_type": "code",
   "execution_count": 58,
   "metadata": {},
   "outputs": [
    {
     "data": {
      "image/png": "[encoded data removed]",
      "text/plain": [
       "<Figure size 432x288 with 1 Axes>"
      ]
     },
     "metadata": {
      "needs_background": "light"
     },
     "output_type": "display_data"
    },
    {
     "name": "stdout",
     "output_type": "stream",
     "text": [
      "explained variance score:  0.8339180757009\n"
     ]
    }
   ],
   "source": [
    "Lin_Reg_Model(house_model,features_train, target_train, features_test, target_test)\n"
   ]
  },
  {
   "cell_type": "code",
   "execution_count": null,
   "metadata": {},
   "outputs": [],
   "source": []
  }
 ],
 "metadata": {
  "kernelspec": {
   "display_name": "Python 3",
   "language": "python",
   "name": "python3"
  },
  "language_info": {
   "codemirror_mode": {
    "name": "ipython",
    "version": 3
   },
   "file_extension": ".py",
   "mimetype": "text/x-python",
   "name": "python",
   "nbconvert_exporter": "python",
   "pygments_lexer": "ipython3",
   "version": "3.6.6"
  }
 },
 "nbformat": 4,
 "nbformat_minor": 2
}
